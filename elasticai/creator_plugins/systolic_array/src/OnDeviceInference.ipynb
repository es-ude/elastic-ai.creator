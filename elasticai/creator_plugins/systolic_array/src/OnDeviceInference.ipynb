{
 "cells": [
  {
   "cell_type": "code",
   "id": "initial_id",
   "metadata": {
    "collapsed": true,
    "ExecuteTime": {
     "end_time": "2025-03-21T12:44:34.101320Z",
     "start_time": "2025-03-21T12:44:30.059591Z"
    }
   },
   "source": [
    "import numpy as np\n",
    "import torch\n",
    "from matplotlib import pyplot as plt\n",
    "from scipy.cluster.hierarchy import weighted\n",
    "from torch import Tensor, nn\n",
    "from serial import Serial\n",
    "\n",
    "# Creator imports\n",
    "from elasticai.creator.nn.fixed_point.quantization import quantize\n",
    "from elasticai.creator.nn.fixed_point._two_complement_fixed_point_config import FixedPointConfig\n",
    "from elasticai.creator.nn.fixed_point._math_operations import MathOperations\n",
    "from elasticai.creator.nn import Sequential\n",
    "from elasticai.creator.nn.fixed_point import Linear, Tanh, BatchNormedLinear\n",
    "\n",
    "from package.dnn.template.dataset.autoencoder import prepare_training\n",
    "from package.dnn.dnn_handler import Config_ML_Pipeline, DefaultSettings_MLPipe\n",
    "from package.yaml_handler import yaml_config_handler\n",
    "from package.dnn.pytorch_dataclass import (Config_Dataset, DefaultSettingsDataset)\n",
    "from package.dnn.pytorch_handler import __model_settings_common, ModelRegistry\n",
    "\n",
    "from elasticai.creator.vhdl.testbench_helper import tensor_to_vhdl_vector"
   ],
   "outputs": [],
   "execution_count": 1
  },
  {
   "metadata": {},
   "cell_type": "markdown",
   "source": "### Load Dataset",
   "id": "bd2255795bcd8e2e"
  },
  {
   "metadata": {
    "ExecuteTime": {
     "end_time": "2025-03-21T12:44:34.327656Z",
     "start_time": "2025-03-21T12:44:34.122301Z"
    }
   },
   "cell_type": "code",
   "source": [
    "yaml_handler = yaml_config_handler(DefaultSettings_MLPipe, 'config', 'Config_DNN')\n",
    "dnn_handler = yaml_handler.get_class(Config_ML_Pipeline)\n",
    "yaml_name_index='Config_AE'\n",
    "\n",
    "\n",
    "yaml_data = yaml_config_handler(DefaultSettingsDataset, dnn_handler.get_path2config, f'{yaml_name_index}_Dataset')\n",
    "config_data = yaml_data.get_class(Config_Dataset)\n",
    "\n",
    "dataset = prepare_training(settings=config_data, do_classification=False,\n",
    "                            mode_train_ae=dnn_handler.autoencoder_mode, noise_std=dnn_handler.autoencoder_noise_std)\n",
    "\n",
    "\n",
    "models_available = ModelRegistry()"
   ],
   "id": "3b62a7a5f238e9d8",
   "outputs": [
    {
     "name": "stdout",
     "output_type": "stream",
     "text": [
      "... read YAML file: /home/silas/PycharmProjects/denspp.offline/3_Python/config/Config_DNN.yaml\n",
      "... read YAML file: /home/silas/PycharmProjects/denspp.offline/3_Python/config/Config_AE_Dataset.yaml\n",
      "... read YAML file: /home/silas/PycharmProjects/denspp.offline/3_Python/access_cloud.yaml\n",
      "... loading and processing the dataset\n",
      "... do data normalization\n",
      "... for training are 15894 frames with each 32 points available\n",
      "... used data points for training: in total 6 classes with 15894 samples\n",
      "\tclass 0 (Neuron #0) --> 1393 samples\n",
      "\tclass 1 (Neuron #1) --> 1696 samples\n",
      "\tclass 2 (Neuron #2) --> 4251 samples\n",
      "\tclass 3 (Neuron #3) --> 3427 samples\n",
      "\tclass 4 (Neuron #4) --> 2083 samples\n",
      "\tclass 5 (Neuron #5) --> 3044 samples\n"
     ]
    }
   ],
   "execution_count": 2
  },
  {
   "metadata": {},
   "cell_type": "markdown",
   "source": "## Load Model",
   "id": "c3b75924f86b0552"
  },
  {
   "metadata": {},
   "cell_type": "markdown",
   "source": "### Hyperparameter",
   "id": "76eccac0f989d622"
  },
  {
   "metadata": {
    "ExecuteTime": {
     "end_time": "2025-03-21T12:44:34.412356Z",
     "start_time": "2025-03-21T12:44:34.409867Z"
    }
   },
   "cell_type": "code",
   "source": [
    "total_bits = 8\n",
    "frac_bits = 5\n",
    "num_steps = 2**8\n",
    "interval = (-4, 3.96875)"
   ],
   "id": "ca7a6c7c6a351b21",
   "outputs": [],
   "execution_count": 3
  },
  {
   "metadata": {
    "ExecuteTime": {
     "end_time": "2025-03-21T12:44:34.472960Z",
     "start_time": "2025-03-21T12:44:34.463070Z"
    }
   },
   "cell_type": "code",
   "source": [
    "@models_available.register\n",
    "class dnn_ae_v1_Q_wo_BN(__model_settings_common):\n",
    "    \"\"\"Class of an autoencoder with Dense-Layer for feature extraction\"\"\"\n",
    "    def __init__(self, input_size=32, output_size=3):\n",
    "        super().__init__('Autoencoder')\n",
    "        self.model_shape = (1, input_size)\n",
    "        self.model_embedded = True\n",
    "        iohiddenlayer = [input_size, 20, 14, output_size]\n",
    "        do_train_bias = True\n",
    "        do_train_batch = True\n",
    "\n",
    "        # --- Encoder Path\n",
    "        self.encoder = Sequential(\n",
    "            Linear(in_features=iohiddenlayer[0], out_features=iohiddenlayer[1], bias=do_train_bias, total_bits=total_bits, frac_bits=frac_bits),\n",
    "            Tanh(total_bits=total_bits, frac_bits=frac_bits, num_steps=num_steps, sampling_intervall=interval),\n",
    "            Linear(in_features=iohiddenlayer[1], out_features=iohiddenlayer[2], bias=do_train_bias, total_bits=total_bits, frac_bits=frac_bits),\n",
    "            Tanh(total_bits=total_bits, frac_bits=frac_bits, num_steps=num_steps, sampling_intervall=interval),\n",
    "            Linear(in_features=iohiddenlayer[2], out_features=iohiddenlayer[3], bias=do_train_bias, total_bits=total_bits, frac_bits=frac_bits),\n",
    "        )\n",
    "        print(sum(p.numel() for p in self.encoder.parameters() if p.requires_grad))\n",
    "        # --- Decoder Path\n",
    "        self.decoder = Sequential(\n",
    "            Tanh(total_bits=total_bits, frac_bits=frac_bits, num_steps=num_steps, sampling_intervall=interval),\n",
    "            Linear(in_features=iohiddenlayer[3], out_features=iohiddenlayer[2], bias=do_train_bias, total_bits=total_bits, frac_bits=frac_bits),\n",
    "            Tanh(total_bits=total_bits, frac_bits=frac_bits, num_steps=num_steps, sampling_intervall=interval),\n",
    "            Linear(in_features=iohiddenlayer[2], out_features=iohiddenlayer[1], bias=do_train_bias, total_bits=total_bits, frac_bits=frac_bits),\n",
    "            Tanh(total_bits=total_bits, frac_bits=frac_bits, num_steps=num_steps, sampling_intervall=interval),\n",
    "            Linear(in_features=iohiddenlayer[1], out_features=iohiddenlayer[0], bias=do_train_bias, total_bits=total_bits, frac_bits=frac_bits),\n",
    "        )\n",
    "\n",
    "    def forward(self, x: Tensor) -> [Tensor, Tensor]:\n",
    "        encoded = self.encoder(x)\n",
    "        return encoded, self.decoder(encoded)\n",
    "    \n",
    "    def forward_first_layer(self, x: Tensor) -> Tensor:\n",
    "        return self.encoder[0](x)\n",
    "    \n",
    "    def create_design(self, name):\n",
    "        encoder = self.encoder.create_design(f\"{name}_encoder\")\n",
    "        decoder = self.decoder.create_design(f\"{name}_decoder\")\n",
    "        return encoder, decoder"
   ],
   "id": "ea3148943a23caa6",
   "outputs": [],
   "execution_count": 4
  },
  {
   "metadata": {
    "ExecuteTime": {
     "end_time": "2025-03-21T14:32:47.180268Z",
     "start_time": "2025-03-21T14:32:47.172951Z"
    }
   },
   "cell_type": "code",
   "source": [
    "@models_available.register\n",
    "class dnn_ae_v1_wo_bn(__model_settings_common):\n",
    "    \"\"\"Class of an autoencoder with Dense-Layer for feature extraction\"\"\"\n",
    "    def __init__(self, input_size=32, output_size=3):\n",
    "        super().__init__('Autoencoder')\n",
    "        self.model_shape = (1, input_size)\n",
    "        self.model_embedded = False\n",
    "        iohiddenlayer = [input_size, 20, 14, output_size]\n",
    "        do_train_bias = True\n",
    "        do_train_batch = True\n",
    "\n",
    "        # --- Encoder Path\n",
    "        self.encoder = nn.Sequential(\n",
    "            nn.Linear(in_features=iohiddenlayer[0], out_features=iohiddenlayer[1], bias=do_train_bias),\n",
    "            #nn.BatchNorm1d(iohiddenlayer[1], affine=True),\n",
    "            nn.Tanh(),\n",
    "            nn.Linear(in_features=iohiddenlayer[1], out_features=iohiddenlayer[2], bias=do_train_bias),\n",
    "            #nn.BatchNorm1d(iohiddenlayer[2], affine=True),\n",
    "            nn.Tanh(),\n",
    "            nn.Linear(in_features=iohiddenlayer[2], out_features=iohiddenlayer[3], bias=do_train_bias),\n",
    "        )\n",
    "        # --- Decoder Path\n",
    "        self.decoder = nn.Sequential(\n",
    "            nn.Tanh(),\n",
    "            nn.Linear(in_features=iohiddenlayer[3], out_features=iohiddenlayer[2], bias=do_train_bias),\n",
    "            #nn.BatchNorm1d(iohiddenlayer[2], affine=True),\n",
    "            nn.Tanh(),\n",
    "            nn.Linear(in_features=iohiddenlayer[2], out_features=iohiddenlayer[1], bias=do_train_bias),\n",
    "            #nn.BatchNorm1d(iohiddenlayer[1], affine=True),\n",
    "            nn.Tanh(),\n",
    "            nn.Linear(in_features=iohiddenlayer[1], out_features=iohiddenlayer[0], bias=do_train_bias),\n",
    "        )\n",
    "\n",
    "    def forward(self, x: Tensor) -> [Tensor, Tensor]:\n",
    "        encoded = self.encoder(x)\n",
    "        return encoded, self.decoder(encoded)"
   ],
   "id": "a5ae76c42123ef63",
   "outputs": [],
   "execution_count": 91
  },
  {
   "metadata": {
    "ExecuteTime": {
     "end_time": "2025-03-21T14:32:49.034250Z",
     "start_time": "2025-03-21T14:32:49.026002Z"
    }
   },
   "cell_type": "code",
   "source": [
    "path_to_model = \"/home/silas/PycharmProjects/denspp.offline/3_Python/runs/20250127_122436_train_dnn_ae_v1_Q_wo_BN_ae/model_ae_fold000_epoch0028.pth\"\n",
    "path_to_fp_model = \"/home/silas/PycharmProjects/denspp.offline/3_Python/runs/20250112_153952_train_dnn_ae_v1_wo_bn_ae/model_ae_fold000_epoch0029.pth\"\n",
    "model = torch.load(path_to_model, weights_only=False)\n",
    "fp_model = torch.load(path_to_fp_model, weights_only=False)\n",
    "fp_model.eval()\n",
    "model.eval()"
   ],
   "id": "bab966eb20a60b59",
   "outputs": [
    {
     "data": {
      "text/plain": [
       "dnn_ae_v1_Q_wo_BN(\n",
       "  (encoder): Sequential(\n",
       "    (0): Linear(in_features=32, out_features=20, bias=True)\n",
       "    (1): Tanh(\n",
       "      (_base_module): Tanh()\n",
       "    )\n",
       "    (2): Linear(in_features=20, out_features=14, bias=True)\n",
       "    (3): Tanh(\n",
       "      (_base_module): Tanh()\n",
       "    )\n",
       "    (4): Linear(in_features=14, out_features=3, bias=True)\n",
       "  )\n",
       "  (decoder): Sequential(\n",
       "    (0): Tanh(\n",
       "      (_base_module): Tanh()\n",
       "    )\n",
       "    (1): Linear(in_features=3, out_features=14, bias=True)\n",
       "    (2): Tanh(\n",
       "      (_base_module): Tanh()\n",
       "    )\n",
       "    (3): Linear(in_features=14, out_features=20, bias=True)\n",
       "    (4): Tanh(\n",
       "      (_base_module): Tanh()\n",
       "    )\n",
       "    (5): Linear(in_features=20, out_features=32, bias=True)\n",
       "  )\n",
       ")"
      ]
     },
     "execution_count": 92,
     "metadata": {},
     "output_type": "execute_result"
    }
   ],
   "execution_count": 92
  },
  {
   "metadata": {
    "ExecuteTime": {
     "end_time": "2025-03-21T12:44:34.629930Z",
     "start_time": "2025-03-21T12:44:34.618921Z"
    }
   },
   "cell_type": "code",
   "source": [
    "config = FixedPointConfig(total_bits=total_bits, frac_bits=frac_bits)\n",
    "double_config = FixedPointConfig(total_bits=2*total_bits, frac_bits=2*frac_bits)\n",
    "ops = MathOperations(config)\n",
    "double_ops = MathOperations(double_config)\n",
    "input = ops.quantize(torch.tensor(dataset[7]['in']))\n",
    "print(input)\n",
    "tensor_to_vhdl_vector(input, config, as_matrix=True)"
   ],
   "id": "8c4ff387ff4d62b",
   "outputs": [
    {
     "name": "stdout",
     "output_type": "stream",
     "text": [
      "tensor([-0.0312, -0.0312, -0.0312, -0.0312, -0.0312, -0.0625,  0.0000,  0.4688,\n",
      "         1.0000,  0.6562, -0.1250, -0.5938, -0.5938, -0.5000, -0.4375, -0.3125,\n",
      "        -0.2500, -0.1875, -0.1562, -0.1250, -0.0938, -0.0938, -0.0938, -0.0625,\n",
      "        -0.0625, -0.0312, -0.0312,  0.0000,  0.0000,  0.0000,  0.0000,  0.0312])\n"
     ]
    },
    {
     "data": {
      "text/plain": [
       "'(\"11111111\",\"11111111\",\"11111111\",\"11111111\",\"11111111\",\"11111110\",\"00000000\",\"00001111\",\"00100000\",\"00010101\",\"11111100\",\"11101101\",\"11101101\",\"11110000\",\"11110010\",\"11110110\",\"11111000\",\"11111010\",\"11111011\",\"11111100\",\"11111101\",\"11111101\",\"11111101\",\"11111110\",\"11111110\",\"11111111\",\"11111111\",\"00000000\",\"00000000\",\"00000000\",\"00000000\",\"00000001\")'"
      ]
     },
     "execution_count": 6,
     "metadata": {},
     "output_type": "execute_result"
    }
   ],
   "execution_count": 6
  },
  {
   "metadata": {
    "ExecuteTime": {
     "end_time": "2025-03-21T12:56:08.673974Z",
     "start_time": "2025-03-21T12:56:08.664469Z"
    }
   },
   "cell_type": "code",
   "source": [
    "input_0 = ops.quantize(torch.tensor(dataset[50]['in']))\n",
    "input_1 = ops.quantize(torch.tensor(dataset[100]['in']))\n",
    "input_2 = ops.quantize(torch.tensor(dataset[200]['in']))\n",
    "input_3 = ops.quantize(torch.tensor(dataset[5000]['in']))\n",
    "print(tensor_to_vhdl_vector(input_0, config, as_matrix=True))\n",
    "print(tensor_to_vhdl_vector(input_1, config, as_matrix=True))\n",
    "print(tensor_to_vhdl_vector(input_2, config, as_matrix=True))\n",
    "print(tensor_to_vhdl_vector(input_3, config, as_matrix=True))"
   ],
   "id": "6d167e21c52076a8",
   "outputs": [
    {
     "name": "stdout",
     "output_type": "stream",
     "text": [
      "(\"00000001\",\"00000001\",\"00000001\",\"00000000\",\"00000000\",\"11111110\",\"00000000\",\"00010011\",\"00100000\",\"00001111\",\"11110111\",\"11101100\",\"11101100\",\"11101111\",\"11110001\",\"11110011\",\"11110101\",\"11110111\",\"11111000\",\"11111011\",\"11111101\",\"11111111\",\"00000000\",\"00000000\",\"00000000\",\"00000000\",\"00000000\",\"00000000\",\"11111111\",\"00000000\",\"00000000\",\"00000000\")\n",
      "(\"00000010\",\"00000010\",\"00000010\",\"00000010\",\"00000001\",\"00000000\",\"00000011\",\"00010101\",\"00100000\",\"00010000\",\"11111000\",\"11101101\",\"11101110\",\"11110001\",\"11110100\",\"11110111\",\"11111001\",\"11111100\",\"11111101\",\"11111111\",\"11111111\",\"00000000\",\"11111111\",\"11111111\",\"11111111\",\"11111111\",\"11111111\",\"11111111\",\"00000000\",\"00000000\",\"00000000\",\"00000000\")\n",
      "(\"00000000\",\"00000000\",\"00000000\",\"00000000\",\"00000000\",\"11111110\",\"00000011\",\"00010110\",\"00100000\",\"00001101\",\"11110110\",\"11101101\",\"11101111\",\"11110001\",\"11110011\",\"11110110\",\"11111000\",\"11111010\",\"11111011\",\"11111100\",\"11111101\",\"11111101\",\"11111110\",\"11111110\",\"11111110\",\"11111110\",\"11111111\",\"00000000\",\"00000000\",\"00000000\",\"00000000\",\"00000000\")\n",
      "(\"00000011\",\"00000011\",\"00000011\",\"00000100\",\"00000111\",\"00001100\",\"00010011\",\"00011001\",\"00011001\",\"00010101\",\"00001110\",\"00000111\",\"00000000\",\"11111010\",\"11110010\",\"11101011\",\"11100110\",\"11100010\",\"11100000\",\"11100001\",\"11100011\",\"11100110\",\"11101001\",\"11101011\",\"11101101\",\"11101111\",\"11101111\",\"11101111\",\"11101111\",\"11101111\",\"11110000\",\"11110000\")\n"
     ]
    }
   ],
   "execution_count": 44
  },
  {
   "metadata": {
    "ExecuteTime": {
     "end_time": "2025-03-21T14:39:08.486267Z",
     "start_time": "2025-03-21T14:39:08.481063Z"
    }
   },
   "cell_type": "code",
   "source": [
    "fpga = Serial(\"/dev/ttyUSB1\", 115200)\n",
    "\n",
    "def value_to_fxp(x: float) -> str:\n",
    "    val = config.as_integer(x)\n",
    "    return val\n",
    "\n",
    "def inference_data_point(datapoint):\n",
    "    input = torch.Tensor(datapoint['in'])\n",
    "    q_input = quantize(input, total_bits=total_bits, frac_bits=frac_bits)\n",
    "    \n",
    "    exp_output = model(q_input)[0].detach().numpy()\n",
    "    \n",
    "    input_as_fxp = [value_to_fxp(data.item()).to_bytes(1, 'little', signed=True) for data in q_input]\n",
    "    \n",
    "    real_output = []\n",
    "    \n",
    "    for idx, input in enumerate(input_as_fxp):\n",
    "        fpga.write(input)\n",
    "        \n",
    "    for idx, output in enumerate(exp_output):\n",
    "        out = fpga.read(1)\n",
    "        out = int.from_bytes(out, 'little', signed=True)\n",
    "        real_output.append(config.as_rational(out))\n",
    "    \n",
    "    return {'exp_output':exp_output, 'real_output':real_output}"
   ],
   "id": "68e79d47e9cdb69c",
   "outputs": [],
   "execution_count": 99
  },
  {
   "metadata": {
    "ExecuteTime": {
     "end_time": "2025-03-21T14:39:10.545298Z",
     "start_time": "2025-03-21T14:39:10.499951Z"
    }
   },
   "cell_type": "code",
   "source": "inference_data_point(dataset.__getitem__(5000))",
   "id": "ff0dc2a75487fd9f",
   "outputs": [
    {
     "data": {
      "text/plain": [
       "{'exp_output': array([0.53125, 0.78125, 0.5    ], dtype=float32),\n",
       " 'real_output': [0.53125, 0.78125, 0.5]}"
      ]
     },
     "execution_count": 100,
     "metadata": {},
     "output_type": "execute_result"
    }
   ],
   "execution_count": 100
  },
  {
   "metadata": {
    "ExecuteTime": {
     "end_time": "2025-03-21T14:23:14.932537Z",
     "start_time": "2025-03-21T14:23:14.929405Z"
    }
   },
   "cell_type": "code",
   "source": "dataset.__len__()",
   "id": "9b500583b100e9b1",
   "outputs": [
    {
     "data": {
      "text/plain": [
       "15894"
      ]
     },
     "execution_count": 82,
     "metadata": {},
     "output_type": "execute_result"
    }
   ],
   "execution_count": 82
  },
  {
   "metadata": {
    "ExecuteTime": {
     "end_time": "2025-03-21T14:23:33.118370Z",
     "start_time": "2025-03-21T14:23:22.588347Z"
    }
   },
   "cell_type": "code",
   "source": [
    "from tqdm import tqdm\n",
    "\n",
    "output = list(dict())\n",
    "\n",
    "data = list(dict())\n",
    "for i in range(0, 15894, 50):\n",
    "    data.append(dataset.__getitem__(i))\n",
    "\n",
    "for datapoint in tqdm(data, desc=\"Progress\"):\n",
    "    out_dict = inference_data_point(datapoint)\n",
    "    output.append(out_dict)"
   ],
   "id": "f8571d6a30c23ee4",
   "outputs": [
    {
     "name": "stderr",
     "output_type": "stream",
     "text": [
      "Progress: 100%|██████████| 318/318 [00:10<00:00, 30.22it/s]\n"
     ]
    }
   ],
   "execution_count": 83
  },
  {
   "metadata": {},
   "cell_type": "markdown",
   "source": "## Calculate SMAPE Scores",
   "id": "2301afafc0c3e30b"
  },
  {
   "metadata": {
    "ExecuteTime": {
     "end_time": "2025-03-21T14:23:35.386960Z",
     "start_time": "2025-03-21T14:23:35.374415Z"
    }
   },
   "cell_type": "code",
   "source": [
    "smape_scores = []\n",
    "\n",
    "for out in output:\n",
    "    exp_output = out['exp_output']\n",
    "    real_output = out['real_output']\n",
    "    smape = np.mean(\n",
    "        np.abs(real_output - exp_output) / ((np.abs(real_output) + np.abs(exp_output)) / 2)\n",
    "    ) * 100\n",
    "    smape_scores.append(smape)"
   ],
   "id": "d3f8872d42fc92d4",
   "outputs": [
    {
     "name": "stderr",
     "output_type": "stream",
     "text": [
      "/tmp/ipykernel_60444/2674103882.py:7: RuntimeWarning: invalid value encountered in divide\n",
      "  np.abs(real_output - exp_output) / ((np.abs(real_output) + np.abs(exp_output)) / 2)\n"
     ]
    }
   ],
   "execution_count": 84
  },
  {
   "metadata": {
    "ExecuteTime": {
     "end_time": "2025-03-21T14:23:37.256274Z",
     "start_time": "2025-03-21T14:23:37.252576Z"
    }
   },
   "cell_type": "code",
   "source": "print(smape_scores[50])",
   "id": "9c653b182c55b320",
   "outputs": [
    {
     "name": "stdout",
     "output_type": "stream",
     "text": [
      "0.0\n"
     ]
    }
   ],
   "execution_count": 85
  },
  {
   "metadata": {
    "ExecuteTime": {
     "end_time": "2025-03-21T14:24:23.836501Z",
     "start_time": "2025-03-21T14:24:23.702221Z"
    }
   },
   "cell_type": "code",
   "source": [
    "# Calculate the mean MAPE\n",
    "mean_smapes_100 = [np.nanmean(smape_scores[steps:steps+100]) for steps in range(0, 15894, 100)]\n",
    "plt.plot(mean_smapes_100)"
   ],
   "id": "dae899586394cd5c",
   "outputs": [
    {
     "name": "stderr",
     "output_type": "stream",
     "text": [
      "/tmp/ipykernel_60444/776477003.py:2: RuntimeWarning: Mean of empty slice\n",
      "  mean_smapes_100 = [np.nanmean(smape_scores[steps:steps+100]) for steps in range(0, 15894, 100)]\n"
     ]
    },
    {
     "data": {
      "text/plain": [
       "[<matplotlib.lines.Line2D at 0x774e8c6728d0>]"
      ]
     },
     "execution_count": 89,
     "metadata": {},
     "output_type": "execute_result"
    },
    {
     "data": {
      "text/plain": [
       "<Figure size 640x480 with 1 Axes>"
      ],
      "image/png": "[encoded data removed]"
     },
     "metadata": {},
     "output_type": "display_data"
    }
   ],
   "execution_count": 89
  },
  {
   "metadata": {
    "ExecuteTime": {
     "end_time": "2025-03-21T14:52:11.111541Z",
     "start_time": "2025-03-21T14:52:10.857621Z"
    }
   },
   "cell_type": "code",
   "source": [
    "all_real = np.concatenate([out['real_output'] for out in output])\n",
    "all_exp = np.concatenate([out['exp_output'] for out in output])\n",
    "\n",
    "plt.scatter(all_real, all_exp, alpha=0.6)\n",
    "plt.plot([all_real.min(), all_real.max()], [all_real.min(), all_real.max()], 'r--', label='Identical Outputs')\n",
    "plt.title('On-Device Output vs. QNN Output')\n",
    "plt.xlabel('Real Output')\n",
    "plt.ylabel('Expected Output')\n",
    "plt.legend()\n",
    "plt.grid(True)\n",
    "\n",
    "plt.savefig(f'on_device_inference.eps', format='eps')\n",
    "plt.show()"
   ],
   "id": "c90756ac241e43d0",
   "outputs": [
    {
     "name": "stderr",
     "output_type": "stream",
     "text": [
      "The PostScript backend does not support transparency; partially transparent artists will be rendered opaque.\n"
     ]
    },
    {
     "data": {
      "text/plain": [
       "<Figure size 640x480 with 1 Axes>"
      ],
      "image/png": "[encoded data removed]"
     },
     "metadata": {},
     "output_type": "display_data"
    }
   ],
   "execution_count": 104
  },
  {
   "metadata": {},
   "cell_type": "markdown",
   "source": "## Calculate Loss",
   "id": "a445b24a4ab653dd"
  },
  {
   "metadata": {},
   "cell_type": "code",
   "outputs": [],
   "execution_count": null,
   "source": "",
   "id": "a0b10f8622e77f95"
  }
 ],
 "metadata": {
  "kernelspec": {
   "display_name": "Python 3",
   "language": "python",
   "name": "python3"
  },
  "language_info": {
   "codemirror_mode": {
    "name": "ipython",
    "version": 2
   },
   "file_extension": ".py",
   "mimetype": "text/x-python",
   "name": "python",
   "nbconvert_exporter": "python",
   "pygments_lexer": "ipython2",
   "version": "2.7.6"
  }
 },
 "nbformat": 4,
 "nbformat_minor": 5
}
