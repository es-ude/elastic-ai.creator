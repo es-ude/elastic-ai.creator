{
 "cells": [
  {
   "metadata": {
    "ExecuteTime": {
     "end_time": "2025-03-18T16:23:54.421964Z",
     "start_time": "2025-03-18T16:23:54.413779Z"
    }
   },
   "cell_type": "code",
   "source": [
    "from datetime import datetime, date\n",
    "from itertools import chain\n",
    "from typing import cast\n",
    "\n",
    "import torch\n",
    "from elasticai.creator.nn.fixed_point._math_operations import MathOperations\n",
    "from elasticai.creator.file_generation.on_disk_path import OnDiskPath\n",
    "from elasticai.creator.nn.fixed_point._two_complement_fixed_point_config import FixedPointConfig\n",
    "from elasticai.creator.vhdl.code_generation.code_abstractions import to_vhdl_binary_string\n",
    "from elasticai.creator.vhdl.testbench_helper import tensor_to_vhdl_vector\n",
    "from torch import nn, Tensor\n",
    "\n",
    "# Creator imports\n",
    "from elasticai.creator.nn import Sequential\n",
    "from elasticai.creator.nn.fixed_point import Linear, Tanh\n",
    "from package.dnn.pytorch_handler import __model_settings_common\n",
    "from package.dnn.pytorch_handler import ModelRegistry"
   ],
   "id": "165e5baf86ca63ac",
   "outputs": [],
   "execution_count": 7
  },
  {
   "metadata": {
    "ExecuteTime": {
     "end_time": "2025-03-18T16:23:54.451087Z",
     "start_time": "2025-03-18T16:23:54.434328Z"
    }
   },
   "cell_type": "code",
   "source": "models_available = ModelRegistry()",
   "id": "534a2dda737a7708",
   "outputs": [],
   "execution_count": 8
  },
  {
   "metadata": {
    "ExecuteTime": {
     "end_time": "2025-03-18T16:23:54.495781Z",
     "start_time": "2025-03-18T16:23:54.489703Z"
    }
   },
   "cell_type": "code",
   "source": [
    "total_bits = 8\n",
    "frac_bits = 5\n",
    "bn_affine = True\n",
    "num_steps = 2**8\n",
    "interval = (-4, 3.96875)"
   ],
   "id": "399692975b0d4946",
   "outputs": [],
   "execution_count": 9
  },
  {
   "metadata": {
    "collapsed": true,
    "ExecuteTime": {
     "end_time": "2025-03-18T16:23:54.581065Z",
     "start_time": "2025-03-18T16:23:54.562717Z"
    }
   },
   "cell_type": "code",
   "source": [
    "@models_available.register\n",
    "class dnn_ae_v1_Q_wo_BN(__model_settings_common):\n",
    "    \"\"\"Class of an autoencoder with Dense-Layer for feature extraction\"\"\"\n",
    "    def __init__(self, input_size=32, output_size=3):\n",
    "        super().__init__('Autoencoder')\n",
    "        self.model_shape = (1, input_size)\n",
    "        self.model_embedded = True\n",
    "        iohiddenlayer = [input_size, 20, 14, output_size]\n",
    "        do_train_bias = True\n",
    "        do_train_batch = True\n",
    "\n",
    "        # --- Encoder Path\n",
    "        self.encoder = Sequential(\n",
    "            Linear(in_features=iohiddenlayer[0], out_features=iohiddenlayer[1], bias=do_train_bias, total_bits=total_bits, frac_bits=frac_bits, parallel=False),\n",
    "            Tanh(total_bits=total_bits, frac_bits=frac_bits, num_steps=num_steps, sampling_intervall=interval),\n",
    "            Linear(in_features=iohiddenlayer[1], out_features=iohiddenlayer[2], bias=do_train_bias, total_bits=total_bits, frac_bits=frac_bits, parallel=False),\n",
    "            Tanh(total_bits=total_bits, frac_bits=frac_bits, num_steps=num_steps, sampling_intervall=interval),\n",
    "            Linear(in_features=iohiddenlayer[2], out_features=iohiddenlayer[3], bias=do_train_bias, total_bits=total_bits, frac_bits=frac_bits, parallel=False),\n",
    "        )\n",
    "        # --- Decoder Path\n",
    "        self.decoder = Sequential(\n",
    "            Tanh(total_bits=total_bits, frac_bits=frac_bits, num_steps=num_steps),\n",
    "            Linear(in_features=iohiddenlayer[3], out_features=iohiddenlayer[2], bias=do_train_bias, total_bits=total_bits, frac_bits=frac_bits, parallel=False),\n",
    "            Tanh(total_bits=total_bits, frac_bits=frac_bits, num_steps=num_steps, sampling_intervall=interval),\n",
    "            Linear(in_features=iohiddenlayer[2], out_features=iohiddenlayer[1], bias=do_train_bias, total_bits=total_bits, frac_bits=frac_bits, parallel=False),\n",
    "            Tanh(total_bits=total_bits, frac_bits=frac_bits, num_steps=num_steps, sampling_intervall=interval),\n",
    "            Linear(in_features=iohiddenlayer[1], out_features=iohiddenlayer[0], bias=do_train_bias, total_bits=total_bits, frac_bits=frac_bits, parallel=False),\n",
    "        )\n",
    "\n",
    "    def forward(self, x: Tensor) -> [Tensor, Tensor]:\n",
    "        encoded = self.encoder(x)\n",
    "        return encoded, self.decoder(encoded)\n",
    "    \n",
    "    def forward_first_layer(self, x: Tensor) -> Tensor:\n",
    "        return self.encoder[0](x)\n",
    "    \n",
    "    def create_design(self, name):\n",
    "        encoder = self.encoder.create_design(f\"{name}_encoder\")\n",
    "        decoder = self.decoder.create_design(f\"{name}_decoder\")\n",
    "        return encoder, decoder"
   ],
   "id": "initial_id",
   "outputs": [],
   "execution_count": 10
  },
  {
   "metadata": {
    "ExecuteTime": {
     "end_time": "2025-03-18T16:23:54.623198Z",
     "start_time": "2025-03-18T16:23:54.611854Z"
    }
   },
   "cell_type": "code",
   "source": "autoencoder = torch.load(f=\"/home/silas/PycharmProjects/denspp.offline/3_Python/runs/20250127_122436_train_dnn_ae_v1_Q_wo_BN_ae/model_ae_fold000_epoch0028.pth\")",
   "id": "217246f0498fc79b",
   "outputs": [
    {
     "name": "stderr",
     "output_type": "stream",
     "text": [
      "/tmp/ipykernel_8605/535421855.py:1: FutureWarning: You are using `torch.load` with `weights_only=False` (the current default value), which uses the default pickle module implicitly. It is possible to construct malicious pickle data which will execute arbitrary code during unpickling (See https://github.com/pytorch/pytorch/blob/main/SECURITY.md#untrusted-models for more details). In a future release, the default value for `weights_only` will be flipped to `True`. This limits the functions that could be executed during unpickling. Arbitrary objects will no longer be allowed to be loaded via this mode unless they are explicitly allowlisted by the user via `torch.serialization.add_safe_globals`. We recommend you start setting `weights_only=True` for any use case where you don't have full control of the loaded file. Please open an issue on GitHub for any issues related to this experimental feature.\n",
      "  autoencoder = torch.load(f=\"/home/silas/PycharmProjects/denspp.offline/3_Python/runs/20250127_122436_train_dnn_ae_v1_Q_wo_BN_ae/model_ae_fold000_epoch0028.pth\")\n"
     ]
    }
   ],
   "execution_count": 11
  },
  {
   "metadata": {
    "ExecuteTime": {
     "end_time": "2025-03-18T16:23:58.643354Z",
     "start_time": "2025-03-18T16:23:54.739531Z"
    }
   },
   "cell_type": "code",
   "source": [
    "path4vhdl = f'vhdl/run_{date.today()}_{datetime.utcnow().strftime(\"%H%M\")}'\n",
    "\n",
    "destination = OnDiskPath(path4vhdl)\n",
    "encoder, decoder = autoencoder.create_design(\"autoencoder\")\n",
    "encoder.save_to(destination)"
   ],
   "id": "f7886ad0794338ee",
   "outputs": [],
   "execution_count": 12
  }
 ],
 "metadata": {
  "kernelspec": {
   "display_name": "Python 3",
   "language": "python",
   "name": "python3"
  },
  "language_info": {
   "codemirror_mode": {
    "name": "ipython",
    "version": 2
   },
   "file_extension": ".py",
   "mimetype": "text/x-python",
   "name": "python",
   "nbconvert_exporter": "python",
   "pygments_lexer": "ipython2",
   "version": "2.7.6"
  }
 },
 "nbformat": 4,
 "nbformat_minor": 5
}
