{
 "cells": [
  {
   "cell_type": "code",
   "id": "initial_id",
   "metadata": {
    "collapsed": true,
    "ExecuteTime": {
     "end_time": "2025-03-27T15:11:07.278110Z",
     "start_time": "2025-03-27T15:11:04.624089Z"
    }
   },
   "source": [
    "from torch import nn, Tensor\n",
    "\n",
    "# Creator imports\n",
    "from elasticai.creator.nn import Sequential\n",
    "from elasticai.creator.nn.fixed_point import Linear, Tanh, BatchNormedLinear\n",
    "\n",
    "from package.dnn.template.dataset.autoencoder import prepare_training\n",
    "from package.dnn.dnn_handler import Config_ML_Pipeline, DefaultSettings_MLPipe\n",
    "from package.yaml_handler import yaml_config_handler\n",
    "from package.dnn.pytorch_dataclass import (Config_Dataset, DefaultSettingsDataset)\n",
    "from package.dnn.pytorch_handler import __model_settings_common\n",
    "from package.plot.plot_dnn import results_training\n",
    "from package.dnn.pytorch_dataclass import DefaultSettingsTrainMSE\n",
    "from package.dnn.pytorch_handler import ModelRegistry\n",
    "from package.dnn.pytorch_dataclass import Config_PyTorch\n",
    "from datetime import datetime, date\n",
    "from package.dnn.pytorch_pipeline import do_train_autoencoder\n",
    "import matplotlib.pyplot as plt\n",
    "import numpy as np\n",
    "import os"
   ],
   "outputs": [],
   "execution_count": 1
  },
  {
   "metadata": {
    "ExecuteTime": {
     "end_time": "2025-03-27T15:11:07.295680Z",
     "start_time": "2025-03-27T15:11:07.288163Z"
    }
   },
   "cell_type": "code",
   "source": [
    "yaml_handler = yaml_config_handler(DefaultSettings_MLPipe, 'config', 'Config_DNN')\n",
    "dnn_handler = yaml_handler.get_class(Config_ML_Pipeline)\n",
    "yaml_name_index='Config_AE'\n",
    "\n",
    "\n",
    "yaml_data = yaml_config_handler(DefaultSettingsDataset, dnn_handler.get_path2config, f'{yaml_name_index}_Dataset')\n",
    "config_data = yaml_data.get_class(Config_Dataset)\n",
    "\n",
    "models_available = ModelRegistry()"
   ],
   "id": "d575eaf6631d68b1",
   "outputs": [
    {
     "name": "stdout",
     "output_type": "stream",
     "text": [
      "... read YAML file: /home/silas/PycharmProjects/denspp.offline/3_Python/config/Config_DNN.yaml\n",
      "... read YAML file: /home/silas/PycharmProjects/denspp.offline/3_Python/config/Config_AE_Dataset.yaml\n"
     ]
    }
   ],
   "execution_count": 2
  },
  {
   "metadata": {
    "ExecuteTime": {
     "end_time": "2025-03-27T15:11:07.505282Z",
     "start_time": "2025-03-27T15:11:07.372630Z"
    }
   },
   "cell_type": "code",
   "source": [
    "dataset = prepare_training(settings=config_data, do_classification=False,\n",
    "                            mode_train_ae=dnn_handler.autoencoder_mode, noise_std=dnn_handler.autoencoder_noise_std)"
   ],
   "id": "705af72295058fe1",
   "outputs": [
    {
     "name": "stdout",
     "output_type": "stream",
     "text": [
      "... read YAML file: /home/silas/PycharmProjects/denspp.offline/3_Python/access_cloud.yaml\n",
      "... loading and processing the dataset\n",
      "... do data normalization\n",
      "... for training are 15894 frames with each 32 points available\n",
      "... used data points for training: in total 6 classes with 15894 samples\n",
      "\tclass 0 (Neuron #0) --> 1393 samples\n",
      "\tclass 1 (Neuron #1) --> 1696 samples\n",
      "\tclass 2 (Neuron #2) --> 4251 samples\n",
      "\tclass 3 (Neuron #3) --> 3427 samples\n",
      "\tclass 4 (Neuron #4) --> 2083 samples\n",
      "\tclass 5 (Neuron #5) --> 3044 samples\n"
     ]
    }
   ],
   "execution_count": 3
  },
  {
   "metadata": {
    "ExecuteTime": {
     "end_time": "2025-03-27T15:11:07.520569Z",
     "start_time": "2025-03-27T15:11:07.516956Z"
    }
   },
   "cell_type": "code",
   "source": [
    "total_bits = [4, 6, 8, 10, 12]\n",
    "frac_bits = [2, 3, 5, 6, 9] \n",
    "bn_affine = True\n",
    "num_steps = [2**x for x in total_bits]\n",
    "interval = [(-2, 1.75), (-4, 3.875), (-4, 3.96875), (-8, 7.984375), (-4, 3.998046875)]"
   ],
   "id": "8ab6945e514265c4",
   "outputs": [],
   "execution_count": 4
  },
  {
   "metadata": {
    "ExecuteTime": {
     "end_time": "2025-03-27T15:11:07.569905Z",
     "start_time": "2025-03-27T15:11:07.562359Z"
    }
   },
   "cell_type": "code",
   "source": [
    "@models_available.register\n",
    "class dnn_ae_v1_Q_4_2(__model_settings_common):\n",
    "    \"\"\"Class of an autoencoder with Dense-Layer for feature extraction\"\"\"\n",
    "    def __init__(self, input_size=32, output_size=3):\n",
    "        super().__init__('Autoencoder')\n",
    "        self.model_shape = (1, input_size)\n",
    "        self.model_embedded = True\n",
    "        iohiddenlayer = [input_size, 20, 14, output_size]\n",
    "        do_train_bias = True\n",
    "        do_train_batch = True\n",
    "\n",
    "        # --- Encoder Path\n",
    "        self.encoder = Sequential(\n",
    "            Linear(in_features=iohiddenlayer[0], out_features=iohiddenlayer[1], bias=do_train_bias, total_bits=total_bits[0], frac_bits=frac_bits[0], parallel=False),\n",
    "            Tanh(total_bits=total_bits[0], frac_bits=frac_bits[0], num_steps=num_steps[0], sampling_intervall=interval[0]),\n",
    "            Linear(in_features=iohiddenlayer[1], out_features=iohiddenlayer[2], bias=do_train_bias, total_bits=total_bits[0], frac_bits=frac_bits[0], parallel=False),\n",
    "            Tanh(total_bits=total_bits[0], frac_bits=frac_bits[0], num_steps=num_steps[0], sampling_intervall=interval[0]),\n",
    "            Linear(in_features=iohiddenlayer[2], out_features=iohiddenlayer[3], bias=do_train_bias, total_bits=total_bits[0], frac_bits=frac_bits[0], parallel=True),\n",
    "        )\n",
    "        # --- Decoder Path\n",
    "        self.decoder = Sequential(\n",
    "            Tanh(total_bits=total_bits[0], frac_bits=frac_bits[0], num_steps=num_steps[0], sampling_intervall=interval[0]),\n",
    "            Linear(in_features=iohiddenlayer[3], out_features=iohiddenlayer[2], bias=do_train_bias, total_bits=total_bits[0], frac_bits=frac_bits[0], parallel=True),\n",
    "            Tanh(total_bits=total_bits[0], frac_bits=frac_bits[0], num_steps=num_steps[0], sampling_intervall=interval[0]),\n",
    "            Linear(in_features=iohiddenlayer[2], out_features=iohiddenlayer[1], bias=do_train_bias, total_bits=total_bits[0], frac_bits=frac_bits[0], parallel=False),\n",
    "            Tanh(total_bits=total_bits[0], frac_bits=frac_bits[0], num_steps=num_steps[0], sampling_intervall=interval[0]),\n",
    "            Linear(in_features=iohiddenlayer[1], out_features=iohiddenlayer[0], bias=do_train_bias, total_bits=total_bits[0], frac_bits=frac_bits[0], parallel=False),\n",
    "        )\n",
    "\n",
    "    def forward(self, x: Tensor) -> [Tensor, Tensor]:\n",
    "        encoded = self.encoder(x)\n",
    "        return encoded, self.decoder(encoded)"
   ],
   "id": "480127a41788cbd4",
   "outputs": [],
   "execution_count": 5
  },
  {
   "metadata": {
    "ExecuteTime": {
     "end_time": "2025-03-27T15:11:07.622270Z",
     "start_time": "2025-03-27T15:11:07.615298Z"
    }
   },
   "cell_type": "code",
   "source": [
    "@models_available.register\n",
    "class dnn_ae_v1_Q_6_3(__model_settings_common):\n",
    "    \"\"\"Class of an autoencoder with Dense-Layer for feature extraction\"\"\"\n",
    "    def __init__(self, input_size=32, output_size=3):\n",
    "        super().__init__('Autoencoder')\n",
    "        self.model_shape = (1, input_size)\n",
    "        self.model_embedded = True\n",
    "        iohiddenlayer = [input_size, 20, 14, output_size]\n",
    "        do_train_bias = True\n",
    "        do_train_batch = True\n",
    "\n",
    "        # --- Encoder Path\n",
    "        self.encoder = Sequential(\n",
    "            Linear(in_features=iohiddenlayer[0], out_features=iohiddenlayer[1], bias=do_train_bias, total_bits=total_bits[1], frac_bits=frac_bits[1], parallel=False),\n",
    "            Tanh(total_bits=total_bits[1], frac_bits=frac_bits[1], num_steps=num_steps[1], sampling_intervall=interval[1]),\n",
    "            Linear(in_features=iohiddenlayer[1], out_features=iohiddenlayer[2], bias=do_train_bias, total_bits=total_bits[1], frac_bits=frac_bits[1], parallel=False),\n",
    "            Tanh(total_bits=total_bits[1], frac_bits=frac_bits[1], num_steps=num_steps[1], sampling_intervall=interval[1]),\n",
    "            Linear(in_features=iohiddenlayer[2], out_features=iohiddenlayer[3], bias=do_train_bias, total_bits=total_bits[1], frac_bits=frac_bits[1], parallel=True),\n",
    "        )\n",
    "        # --- Decoder Path\n",
    "        self.decoder = Sequential(\n",
    "            Tanh(total_bits=total_bits[1], frac_bits=frac_bits[1], num_steps=num_steps[1], sampling_intervall=interval[1]),\n",
    "            Linear(in_features=iohiddenlayer[3], out_features=iohiddenlayer[2], bias=do_train_bias, total_bits=total_bits[1], frac_bits=frac_bits[1], parallel=True),\n",
    "            Tanh(total_bits=total_bits[1], frac_bits=frac_bits[1], num_steps=num_steps[1], sampling_intervall=interval[1]),\n",
    "            Linear(in_features=iohiddenlayer[2], out_features=iohiddenlayer[1], bias=do_train_bias, total_bits=total_bits[1], frac_bits=frac_bits[1], parallel=False),\n",
    "            Tanh(total_bits=total_bits[1], frac_bits=frac_bits[1], num_steps=num_steps[1], sampling_intervall=interval[1]),\n",
    "            Linear(in_features=iohiddenlayer[1], out_features=iohiddenlayer[0], bias=do_train_bias, total_bits=total_bits[1], frac_bits=frac_bits[1], parallel=False),\n",
    "        )\n",
    "\n",
    "    def forward(self, x: Tensor) -> [Tensor, Tensor]:\n",
    "        encoded = self.encoder(x)\n",
    "        return encoded, self.decoder(encoded)"
   ],
   "id": "dff46499caa30198",
   "outputs": [],
   "execution_count": 6
  },
  {
   "metadata": {
    "ExecuteTime": {
     "end_time": "2025-03-27T15:11:07.673840Z",
     "start_time": "2025-03-27T15:11:07.666167Z"
    }
   },
   "cell_type": "code",
   "source": [
    "@models_available.register\n",
    "class dnn_ae_v1_Q_8_5(__model_settings_common):\n",
    "    \"\"\"Class of an autoencoder with Dense-Layer for feature extraction\"\"\"\n",
    "    def __init__(self, input_size=32, output_size=3):\n",
    "        super().__init__('Autoencoder')\n",
    "        self.model_shape = (1, input_size)\n",
    "        self.model_embedded = True\n",
    "        iohiddenlayer = [input_size, 20, 14, output_size]\n",
    "        do_train_bias = True\n",
    "        do_train_batch = True\n",
    "\n",
    "        # --- Encoder Path\n",
    "        self.encoder = Sequential(\n",
    "            Linear(in_features=iohiddenlayer[0], out_features=iohiddenlayer[1], bias=do_train_bias, total_bits=total_bits[2], frac_bits=frac_bits[2], parallel=False),\n",
    "            Tanh(total_bits=total_bits[2], frac_bits=frac_bits[2], num_steps=num_steps[2], sampling_intervall=interval[2]),\n",
    "            Linear(in_features=iohiddenlayer[1], out_features=iohiddenlayer[2], bias=do_train_bias, total_bits=total_bits[2], frac_bits=frac_bits[2], parallel=False),\n",
    "            Tanh(total_bits=total_bits[2], frac_bits=frac_bits[2], num_steps=num_steps[2], sampling_intervall=interval[2]),\n",
    "            Linear(in_features=iohiddenlayer[2], out_features=iohiddenlayer[3], bias=do_train_bias, total_bits=total_bits[2], frac_bits=frac_bits[2], parallel=True),\n",
    "        )\n",
    "        # --- Decoder Path\n",
    "        self.decoder = Sequential(\n",
    "            Tanh(total_bits=total_bits[2], frac_bits=frac_bits[2], num_steps=num_steps[2], sampling_intervall=interval[2]),\n",
    "            Linear(in_features=iohiddenlayer[3], out_features=iohiddenlayer[2], bias=do_train_bias, total_bits=total_bits[2], frac_bits=frac_bits[2], parallel=True),\n",
    "            Tanh(total_bits=total_bits[2], frac_bits=frac_bits[2], num_steps=num_steps[2], sampling_intervall=interval[2]),\n",
    "            Linear(in_features=iohiddenlayer[2], out_features=iohiddenlayer[1], bias=do_train_bias, total_bits=total_bits[2], frac_bits=frac_bits[2], parallel=False),\n",
    "            Tanh(total_bits=total_bits[2], frac_bits=frac_bits[2], num_steps=num_steps[2], sampling_intervall=interval[2]),\n",
    "            Linear(in_features=iohiddenlayer[1], out_features=iohiddenlayer[0], bias=do_train_bias, total_bits=total_bits[2], frac_bits=frac_bits[2], parallel=False),\n",
    "        )\n",
    "\n",
    "    def forward(self, x: Tensor) -> [Tensor, Tensor]:\n",
    "        encoded = self.encoder(x)\n",
    "        return encoded, self.decoder(encoded)"
   ],
   "id": "96a3b41767d6a617",
   "outputs": [],
   "execution_count": 7
  },
  {
   "metadata": {
    "ExecuteTime": {
     "end_time": "2025-03-27T15:11:07.727889Z",
     "start_time": "2025-03-27T15:11:07.718096Z"
    }
   },
   "cell_type": "code",
   "source": [
    "@models_available.register\n",
    "class dnn_ae_v1_Q_10_6(__model_settings_common):\n",
    "    \"\"\"Class of an autoencoder with Dense-Layer for feature extraction\"\"\"\n",
    "    def __init__(self, input_size=32, output_size=3):\n",
    "        super().__init__('Autoencoder')\n",
    "        self.model_shape = (1, input_size)\n",
    "        self.model_embedded = True\n",
    "        iohiddenlayer = [input_size, 20, 14, output_size]\n",
    "        do_train_bias = True\n",
    "        do_train_batch = True\n",
    "\n",
    "        # --- Encoder Path\n",
    "        self.encoder = Sequential(\n",
    "            Linear(in_features=iohiddenlayer[0], out_features=iohiddenlayer[1], bias=do_train_bias, total_bits=total_bits[3], frac_bits=frac_bits[3], parallel=False),\n",
    "            Tanh(total_bits=total_bits[3], frac_bits=frac_bits[3], num_steps=num_steps[3], sampling_intervall=interval[3]),\n",
    "            Linear(in_features=iohiddenlayer[1], out_features=iohiddenlayer[2], bias=do_train_bias, total_bits=total_bits[3], frac_bits=frac_bits[3], parallel=False),\n",
    "            Tanh(total_bits=total_bits[3], frac_bits=frac_bits[3], num_steps=num_steps[3], sampling_intervall=interval[3]),\n",
    "            Linear(in_features=iohiddenlayer[2], out_features=iohiddenlayer[3], bias=do_train_bias, total_bits=total_bits[3], frac_bits=frac_bits[3], parallel=True),\n",
    "        )\n",
    "        # --- Decoder Path\n",
    "        self.decoder = Sequential(\n",
    "            Tanh(total_bits=total_bits[3], frac_bits=frac_bits[3], num_steps=num_steps[3], sampling_intervall=interval[3]),\n",
    "            Linear(in_features=iohiddenlayer[3], out_features=iohiddenlayer[2], bias=do_train_bias, total_bits=total_bits[3], frac_bits=frac_bits[3], parallel=True),\n",
    "            Tanh(total_bits=total_bits[3], frac_bits=frac_bits[3], num_steps=num_steps[3], sampling_intervall=interval[3]),\n",
    "            Linear(in_features=iohiddenlayer[2], out_features=iohiddenlayer[1], bias=do_train_bias, total_bits=total_bits[3], frac_bits=frac_bits[3], parallel=False),\n",
    "            Tanh(total_bits=total_bits[3], frac_bits=frac_bits[3], num_steps=num_steps[3], sampling_intervall=interval[3]),\n",
    "            Linear(in_features=iohiddenlayer[1], out_features=iohiddenlayer[0], bias=do_train_bias, total_bits=total_bits[3], frac_bits=frac_bits[3], parallel=False),\n",
    "        )\n",
    "\n",
    "    def forward(self, x: Tensor) -> [Tensor, Tensor]:\n",
    "        encoded = self.encoder(x)\n",
    "        return encoded, self.decoder(encoded)"
   ],
   "id": "f4f5baa0b6c11781",
   "outputs": [],
   "execution_count": 8
  },
  {
   "metadata": {
    "ExecuteTime": {
     "end_time": "2025-03-27T15:11:07.778939Z",
     "start_time": "2025-03-27T15:11:07.771487Z"
    }
   },
   "cell_type": "code",
   "source": [
    "@models_available.register\n",
    "class dnn_ae_v1_Q_12_9(__model_settings_common):\n",
    "    \"\"\"Class of an autoencoder with Dense-Layer for feature extraction\"\"\"\n",
    "    def __init__(self, input_size=32, output_size=3):\n",
    "        super().__init__('Autoencoder')\n",
    "        self.model_shape = (1, input_size)\n",
    "        self.model_embedded = True\n",
    "        iohiddenlayer = [input_size, 20, 14, output_size]\n",
    "        do_train_bias = True\n",
    "        do_train_batch = True\n",
    "\n",
    "        # --- Encoder Path\n",
    "        self.encoder = Sequential(\n",
    "            Linear(in_features=iohiddenlayer[0], out_features=iohiddenlayer[1], bias=do_train_bias, total_bits=total_bits[4], frac_bits=frac_bits[4], parallel=False),\n",
    "            Tanh(total_bits=total_bits[4], frac_bits=frac_bits[4], num_steps=num_steps[4], sampling_intervall=interval[4]),\n",
    "            Linear(in_features=iohiddenlayer[1], out_features=iohiddenlayer[2], bias=do_train_bias, total_bits=total_bits[4], frac_bits=frac_bits[4], parallel=False),\n",
    "            Tanh(total_bits=total_bits[4], frac_bits=frac_bits[4], num_steps=num_steps[4], sampling_intervall=interval[4]),\n",
    "            Linear(in_features=iohiddenlayer[2], out_features=iohiddenlayer[3], bias=do_train_bias, total_bits=total_bits[4], frac_bits=frac_bits[4], parallel=True),\n",
    "        )\n",
    "        # --- Decoder Path\n",
    "        self.decoder = Sequential(\n",
    "            Tanh(total_bits=total_bits[4], frac_bits=frac_bits[4], num_steps=num_steps[4], sampling_intervall=interval[4]),\n",
    "            Linear(in_features=iohiddenlayer[3], out_features=iohiddenlayer[2], bias=do_train_bias, total_bits=total_bits[4], frac_bits=frac_bits[4], parallel=True),\n",
    "            Tanh(total_bits=total_bits[4], frac_bits=frac_bits[4], num_steps=num_steps[4], sampling_intervall=interval[4]),\n",
    "            Linear(in_features=iohiddenlayer[2], out_features=iohiddenlayer[1], bias=do_train_bias, total_bits=total_bits[4], frac_bits=frac_bits[4], parallel=False),\n",
    "            Tanh(total_bits=total_bits[4], frac_bits=frac_bits[4], num_steps=num_steps[4], sampling_intervall=interval[4]),\n",
    "            Linear(in_features=iohiddenlayer[1], out_features=iohiddenlayer[0], bias=do_train_bias, total_bits=total_bits[4], frac_bits=frac_bits[4], parallel=False),\n",
    "        )\n",
    "\n",
    "    def forward(self, x: Tensor) -> [Tensor, Tensor]:\n",
    "        encoded = self.encoder(x)\n",
    "        return encoded, self.decoder(encoded)"
   ],
   "id": "3d20611dc77aa5cd",
   "outputs": [],
   "execution_count": 9
  },
  {
   "metadata": {
    "ExecuteTime": {
     "end_time": "2025-03-27T15:11:07.833520Z",
     "start_time": "2025-03-27T15:11:07.828986Z"
    }
   },
   "cell_type": "code",
   "source": [
    "default_train = DefaultSettingsTrainMSE\n",
    "default_train.model_name = dnn_ae_v1_Q_4_2.__name__\n",
    "yaml_nn = yaml_config_handler(default_train, dnn_handler.get_path2config, f'{yaml_name_index}_Training')\n",
    "config_train = yaml_nn.get_class(Config_PyTorch)\n",
    "\n",
    "dnn_handler.do_plot  = False"
   ],
   "id": "4a877568c0eed355",
   "outputs": [
    {
     "name": "stdout",
     "output_type": "stream",
     "text": [
      "... read YAML file: /home/silas/PycharmProjects/denspp.offline/3_Python/config/Config_AE_Training.yaml\n"
     ]
    }
   ],
   "execution_count": 10
  },
  {
   "metadata": {
    "ExecuteTime": {
     "end_time": "2025-03-27T15:11:07.898787Z",
     "start_time": "2025-03-27T15:11:07.886204Z"
    }
   },
   "cell_type": "code",
   "source": [
    "from datetime import datetime, date\n",
    "from package.dnn.pytorch_pipeline import do_train_autoencoder\n",
    "\n",
    "model_4_2 = models_available.build_model('dnn_ae_v1_Q_4_2')\n",
    "model_6_3 = models_available.build_model('dnn_ae_v1_Q_6_3')\n",
    "model_8_5 = models_available.build_model('dnn_ae_v1_Q_8_5')\n",
    "model_10_6 = models_available.build_model('dnn_ae_v1_Q_10_6')\n",
    "model_12_9 = models_available.build_model('dnn_ae_v1_Q_12_9')\n",
    "path4vhdl = f'vhdl/run_{date.today()}_{datetime.utcnow().strftime(\"%H%M\")}'\n",
    "\n",
    "model_4_2_stats = dict()\n",
    "model_6_3_stats = dict()\n",
    "model_8_5_stats = dict()\n",
    "model_10_6_stats = dict()\n",
    "model_12_9_stats = dict()"
   ],
   "id": "17f421fc88f26a86",
   "outputs": [
    {
     "name": "stdout",
     "output_type": "stream",
     "text": [
      "{'model': <class 'torch.nn.modules.container.Sequential'>}\n",
      "{'model': <class 'torch.nn.modules.container.Sequential'>}\n",
      "{'model': <class 'torch.nn.modules.container.Sequential'>}\n",
      "{'model': <class 'torch.nn.modules.container.Sequential'>}\n",
      "{'model': <class 'torch.nn.modules.container.Sequential'>}\n"
     ]
    }
   ],
   "execution_count": 11
  },
  {
   "metadata": {
    "ExecuteTime": {
     "end_time": "2025-03-27T15:37:35.010569Z",
     "start_time": "2025-03-27T15:11:08.011050Z"
    }
   },
   "cell_type": "code",
   "source": [
    "model_4_2_stats['metrics'], model_4_2_stats['data_result'], model_4_2_stats['path2folder'] = do_train_autoencoder( #metrics, data_result, path2folder\n",
    "        config_ml=dnn_handler, config_data=config_data, config_train=config_train,\n",
    "        used_dataset=dataset, used_model=model_4_2, calc_custom_metrics=['dsnr_all'], save_vhdl=False, path4vhdl=path4vhdl\n",
    "    )\n",
    "\n",
    "model_6_3_stats['metrics'], model_6_3_stats['data_result'], model_6_3_stats['path2folder'] = do_train_autoencoder( #metrics, data_result, path2folder\n",
    "        config_ml=dnn_handler, config_data=config_data, config_train=config_train,\n",
    "        used_dataset=dataset, used_model=model_6_3, calc_custom_metrics=['dsnr_all'], save_vhdl=False, path4vhdl=path4vhdl\n",
    "    )\n",
    "\n",
    "model_8_5_stats['metrics'], model_8_5_stats['data_result'], model_8_5_stats['path2folder'] = do_train_autoencoder( #metrics, data_result, path2folder\n",
    "        config_ml=dnn_handler, config_data=config_data, config_train=config_train,\n",
    "        used_dataset=dataset, used_model=model_8_5, calc_custom_metrics=['dsnr_all'], save_vhdl=False, path4vhdl=path4vhdl\n",
    "    )\n",
    "\n",
    "model_10_6_stats['metrics'], model_10_6_stats['data_result'], model_10_6_stats['path2folder'] = do_train_autoencoder( #metrics, data_result, path2folder\n",
    "        config_ml=dnn_handler, config_data=config_data, config_train=config_train,\n",
    "        used_dataset=dataset, used_model=model_10_6, calc_custom_metrics=['dsnr_all'], save_vhdl=False, path4vhdl=path4vhdl\n",
    "    )\n",
    "\n",
    "model_12_9_stats['metrics'], model_12_9_stats['data_result'], model_12_9_stats['path2folder'] = do_train_autoencoder( #metrics, data_result, path2folder\n",
    "        config_ml=dnn_handler, config_data=config_data, config_train=config_train,\n",
    "        used_dataset=dataset, used_model=model_12_9, calc_custom_metrics=['dsnr_all'], save_vhdl=False, path4vhdl=path4vhdl\n",
    "    )"
   ],
   "id": "e79e8762f2de23c0",
   "outputs": [
    {
     "name": "stdout",
     "output_type": "stream",
     "text": [
      "\n",
      "Print summary of model\n",
      "\n",
      "\n",
      "\n",
      "\n",
      "Using PyTorch with Intel(R) Core(TM) i7-8565U CPU @ 1.80GHz (@ 4.466 GHz) on Linux\n",
      "dict_keys(['snr_in', 'snr_in_cl', 'snr_out', 'snr_out_cl', 'dsnr_all', 'dsnr_cl'])\n",
      "\n",
      "Training starts on 16:11:10\n",
      "=====================================================================================\n"
     ]
    },
    {
     "name": "stderr",
     "output_type": "stream",
     "text": [
      "/home/silas/PycharmProjects/denspp.offline/3_Python/package/dnn/pytorch/autoencoder.py:301: FutureWarning: You are using `torch.load` with `weights_only=False` (the current default value), which uses the default pickle module implicitly. It is possible to construct malicious pickle data which will execute arbitrary code during unpickling (See https://github.com/pytorch/pytorch/blob/main/SECURITY.md#untrusted-models for more details). In a future release, the default value for `weights_only` will be flipped to `True`. This limits the functions that could be executed during unpickling. Arbitrary objects will no longer be allowed to be loaded via this mode unless they are explicitly allowlisted by the user via `torch.serialization.add_safe_globals`. We recommend you start setting `weights_only=True` for any use case where you don't have full control of the loaded file. Please open an issue on GitHub for any issues related to this experimental feature.\n",
      "  self.model.load_state_dict(load(path2model_init))\n"
     ]
    },
    {
     "name": "stdout",
     "output_type": "stream",
     "text": [
      "... results of epoch 1/30 [3.33 %]: train_loss = 0.22667,\tvalid_loss = 0.22426,\tdelta_loss = 0.002419\n",
      "... results of epoch 2/30 [6.67 %]: train_loss = 0.22406,\tvalid_loss = 0.21881,\tdelta_loss = 0.005253\n",
      "... results of epoch 3/30 [10.00 %]: train_loss = 0.21231,\tvalid_loss = 0.21049,\tdelta_loss = 0.001820\n",
      "... results of epoch 4/30 [13.33 %]: train_loss = 0.20126,\tvalid_loss = 0.19546,\tdelta_loss = 0.005799\n",
      "... results of epoch 5/30 [16.67 %]: train_loss = 0.19145,\tvalid_loss = 0.18877,\tdelta_loss = 0.002681\n",
      "... results of epoch 6/30 [20.00 %]: train_loss = 0.17957,\tvalid_loss = 0.17283,\tdelta_loss = 0.006739\n",
      "... results of epoch 7/30 [23.33 %]: train_loss = 0.17290,\tvalid_loss = 0.16642,\tdelta_loss = 0.006481\n",
      "... results of epoch 8/30 [26.67 %]: train_loss = 0.15112,\tvalid_loss = 0.14450,\tdelta_loss = 0.006621\n",
      "... results of epoch 9/30 [30.00 %]: train_loss = 0.13999,\tvalid_loss = 0.13874,\tdelta_loss = 0.001245\n",
      "... results of epoch 10/30 [33.33 %]: train_loss = 0.12923,\tvalid_loss = 0.12173,\tdelta_loss = 0.007498\n",
      "... results of epoch 11/30 [36.67 %]: train_loss = 0.12429,\tvalid_loss = 0.12388,\tdelta_loss = 0.000410\n",
      "... results of epoch 12/30 [40.00 %]: train_loss = 0.12449,\tvalid_loss = 0.12492,\tdelta_loss = -0.000432\n",
      "... results of epoch 13/30 [43.33 %]: train_loss = 0.12156,\tvalid_loss = 0.11972,\tdelta_loss = 0.001831\n",
      "... results of epoch 14/30 [46.67 %]: train_loss = 0.11477,\tvalid_loss = 0.11232,\tdelta_loss = 0.002446\n",
      "... results of epoch 15/30 [50.00 %]: train_loss = 0.11186,\tvalid_loss = 0.11168,\tdelta_loss = 0.000180\n",
      "... results of epoch 16/30 [53.33 %]: train_loss = 0.11215,\tvalid_loss = 0.10874,\tdelta_loss = 0.003406\n",
      "... results of epoch 17/30 [56.67 %]: train_loss = 0.11260,\tvalid_loss = 0.11170,\tdelta_loss = 0.000892\n",
      "... results of epoch 18/30 [60.00 %]: train_loss = 0.10980,\tvalid_loss = 0.10618,\tdelta_loss = 0.003621\n",
      "... results of epoch 19/30 [63.33 %]: train_loss = 0.10706,\tvalid_loss = 0.11057,\tdelta_loss = -0.003505\n",
      "... results of epoch 20/30 [66.67 %]: train_loss = 0.10698,\tvalid_loss = 0.10649,\tdelta_loss = 0.000490\n",
      "... results of epoch 21/30 [70.00 %]: train_loss = 0.10739,\tvalid_loss = 0.10462,\tdelta_loss = 0.002774\n",
      "... results of epoch 22/30 [73.33 %]: train_loss = 0.10456,\tvalid_loss = 0.10091,\tdelta_loss = 0.003649\n",
      "... results of epoch 23/30 [76.67 %]: train_loss = 0.10249,\tvalid_loss = 0.10224,\tdelta_loss = 0.000248\n",
      "... results of epoch 24/30 [80.00 %]: train_loss = 0.10287,\tvalid_loss = 0.10659,\tdelta_loss = -0.003720\n",
      "... results of epoch 25/30 [83.33 %]: train_loss = 0.10277,\tvalid_loss = 0.10133,\tdelta_loss = 0.001441\n",
      "... results of epoch 26/30 [86.67 %]: train_loss = 0.10262,\tvalid_loss = 0.10143,\tdelta_loss = 0.001186\n",
      "... results of epoch 27/30 [90.00 %]: train_loss = 0.10286,\tvalid_loss = 0.10137,\tdelta_loss = 0.001497\n",
      "... results of epoch 28/30 [93.33 %]: train_loss = 0.10307,\tvalid_loss = 0.10204,\tdelta_loss = 0.001034\n",
      "... results of epoch 29/30 [96.67 %]: train_loss = 0.10334,\tvalid_loss = 0.10243,\tdelta_loss = 0.000909\n",
      "... results of epoch 30/30 [100.00 %]: train_loss = 0.10314,\tvalid_loss = 0.10521,\tdelta_loss = -0.002071\n",
      "\n",
      "Training ends on: 16:11:47\n",
      "Training runs: 0:00:36.487174\n",
      "\n",
      "=================================================================\n",
      "Do Validation with best model: /home/silas/PycharmProjects/denspp.offline/3_Python/runs/20250327_161110_train_dnn_ae_v1_Q_4_2_ae/model_ae_fold000_epoch0021.pth\n",
      "... preparing results for plot generation\n",
      "... saving results: /home/silas/PycharmProjects/denspp.offline/3_Python/runs/20250327_161110_train_dnn_ae_v1_Q_4_2_ae/results_ae.npy\n",
      "\n",
      "Print summary of model\n",
      "\n",
      "\n",
      "\n",
      "\n",
      "Using PyTorch with Intel(R) Core(TM) i7-8565U CPU @ 1.80GHz (@ 3.401 GHz) on Linux\n",
      "dict_keys(['snr_in', 'snr_in_cl', 'snr_out', 'snr_out_cl', 'dsnr_all', 'dsnr_cl'])\n",
      "\n",
      "Training starts on 16:11:50\n",
      "=====================================================================================\n",
      "... results of epoch 1/30 [3.33 %]: train_loss = 0.22739,\tvalid_loss = 0.21790,\tdelta_loss = 0.009491\n",
      "... results of epoch 2/30 [6.67 %]: train_loss = 0.20378,\tvalid_loss = 0.15057,\tdelta_loss = 0.053216\n",
      "... results of epoch 3/30 [10.00 %]: train_loss = 0.10649,\tvalid_loss = 0.08694,\tdelta_loss = 0.019548\n",
      "... results of epoch 4/30 [13.33 %]: train_loss = 0.08147,\tvalid_loss = 0.07336,\tdelta_loss = 0.008110\n",
      "... results of epoch 5/30 [16.67 %]: train_loss = 0.07160,\tvalid_loss = 0.06408,\tdelta_loss = 0.007521\n",
      "... results of epoch 6/30 [20.00 %]: train_loss = 0.05670,\tvalid_loss = 0.04782,\tdelta_loss = 0.008878\n",
      "... results of epoch 7/30 [23.33 %]: train_loss = 0.04077,\tvalid_loss = 0.03414,\tdelta_loss = 0.006630\n",
      "... results of epoch 8/30 [26.67 %]: train_loss = 0.03331,\tvalid_loss = 0.03143,\tdelta_loss = 0.001874\n",
      "... results of epoch 9/30 [30.00 %]: train_loss = 0.02924,\tvalid_loss = 0.02583,\tdelta_loss = 0.003411\n",
      "... results of epoch 10/30 [33.33 %]: train_loss = 0.02296,\tvalid_loss = 0.01782,\tdelta_loss = 0.005137\n",
      "... results of epoch 11/30 [36.67 %]: train_loss = 0.01686,\tvalid_loss = 0.01600,\tdelta_loss = 0.000860\n",
      "... results of epoch 12/30 [40.00 %]: train_loss = 0.01676,\tvalid_loss = 0.01618,\tdelta_loss = 0.000580\n",
      "... results of epoch 13/30 [43.33 %]: train_loss = 0.01604,\tvalid_loss = 0.01596,\tdelta_loss = 0.000070\n",
      "... results of epoch 14/30 [46.67 %]: train_loss = 0.01629,\tvalid_loss = 0.01560,\tdelta_loss = 0.000683\n",
      "... results of epoch 15/30 [50.00 %]: train_loss = 0.01648,\tvalid_loss = 0.01517,\tdelta_loss = 0.001310\n",
      "... results of epoch 16/30 [53.33 %]: train_loss = 0.01615,\tvalid_loss = 0.01566,\tdelta_loss = 0.000494\n",
      "... results of epoch 17/30 [56.67 %]: train_loss = 0.01594,\tvalid_loss = 0.01514,\tdelta_loss = 0.000809\n",
      "... results of epoch 18/30 [60.00 %]: train_loss = 0.01541,\tvalid_loss = 0.01515,\tdelta_loss = 0.000253\n",
      "... results of epoch 19/30 [63.33 %]: train_loss = 0.01505,\tvalid_loss = 0.01424,\tdelta_loss = 0.000818\n",
      "... results of epoch 20/30 [66.67 %]: train_loss = 0.01483,\tvalid_loss = 0.01444,\tdelta_loss = 0.000392\n",
      "... results of epoch 21/30 [70.00 %]: train_loss = 0.01456,\tvalid_loss = 0.01333,\tdelta_loss = 0.001229\n",
      "... results of epoch 22/30 [73.33 %]: train_loss = 0.01448,\tvalid_loss = 0.01434,\tdelta_loss = 0.000141\n",
      "... results of epoch 23/30 [76.67 %]: train_loss = 0.01477,\tvalid_loss = 0.01545,\tdelta_loss = -0.000678\n",
      "... results of epoch 24/30 [80.00 %]: train_loss = 0.01457,\tvalid_loss = 0.01407,\tdelta_loss = 0.000500\n",
      "... results of epoch 25/30 [83.33 %]: train_loss = 0.01451,\tvalid_loss = 0.01485,\tdelta_loss = -0.000343\n",
      "... results of epoch 26/30 [86.67 %]: train_loss = 0.01458,\tvalid_loss = 0.01364,\tdelta_loss = 0.000944\n",
      "... results of epoch 27/30 [90.00 %]: train_loss = 0.01422,\tvalid_loss = 0.01432,\tdelta_loss = -0.000098\n",
      "... results of epoch 28/30 [93.33 %]: train_loss = 0.01374,\tvalid_loss = 0.01309,\tdelta_loss = 0.000644\n",
      "... results of epoch 29/30 [96.67 %]: train_loss = 0.01364,\tvalid_loss = 0.01363,\tdelta_loss = 0.000011\n",
      "... results of epoch 30/30 [100.00 %]: train_loss = 0.01360,\tvalid_loss = 0.01262,\tdelta_loss = 0.000978\n",
      "\n",
      "Training ends on: 16:12:38\n",
      "Training runs: 0:00:48.555496\n",
      "\n",
      "=================================================================\n",
      "Do Validation with best model: /home/silas/PycharmProjects/denspp.offline/3_Python/runs/20250327_161150_train_dnn_ae_v1_Q_6_3_ae/model_ae_fold000_epoch0029.pth\n",
      "... preparing results for plot generation\n",
      "... saving results: /home/silas/PycharmProjects/denspp.offline/3_Python/runs/20250327_161150_train_dnn_ae_v1_Q_6_3_ae/results_ae.npy\n",
      "\n",
      "Print summary of model\n",
      "\n",
      "\n",
      "\n",
      "\n",
      "Using PyTorch with Intel(R) Core(TM) i7-8565U CPU @ 1.80GHz (@ 2.500 GHz) on Linux\n",
      "dict_keys(['snr_in', 'snr_in_cl', 'snr_out', 'snr_out_cl', 'dsnr_all', 'dsnr_cl'])\n",
      "\n",
      "Training starts on 16:12:41\n",
      "=====================================================================================\n",
      "... results of epoch 1/30 [3.33 %]: train_loss = 0.17772,\tvalid_loss = 0.10662,\tdelta_loss = 0.071099\n",
      "... results of epoch 2/30 [6.67 %]: train_loss = 0.06918,\tvalid_loss = 0.04172,\tdelta_loss = 0.027462\n",
      "... results of epoch 3/30 [10.00 %]: train_loss = 0.02997,\tvalid_loss = 0.02372,\tdelta_loss = 0.006255\n",
      "... results of epoch 4/30 [13.33 %]: train_loss = 0.01869,\tvalid_loss = 0.01542,\tdelta_loss = 0.003271\n",
      "... results of epoch 5/30 [16.67 %]: train_loss = 0.01377,\tvalid_loss = 0.01279,\tdelta_loss = 0.000979\n",
      "... results of epoch 6/30 [20.00 %]: train_loss = 0.01225,\tvalid_loss = 0.01207,\tdelta_loss = 0.000180\n",
      "... results of epoch 7/30 [23.33 %]: train_loss = 0.01169,\tvalid_loss = 0.01147,\tdelta_loss = 0.000217\n",
      "... results of epoch 8/30 [26.67 %]: train_loss = 0.01129,\tvalid_loss = 0.01117,\tdelta_loss = 0.000121\n",
      "... results of epoch 9/30 [30.00 %]: train_loss = 0.01104,\tvalid_loss = 0.01094,\tdelta_loss = 0.000093\n",
      "... results of epoch 10/30 [33.33 %]: train_loss = 0.01083,\tvalid_loss = 0.01070,\tdelta_loss = 0.000133\n",
      "... results of epoch 11/30 [36.67 %]: train_loss = 0.01054,\tvalid_loss = 0.01034,\tdelta_loss = 0.000199\n",
      "... results of epoch 12/30 [40.00 %]: train_loss = 0.01023,\tvalid_loss = 0.01046,\tdelta_loss = -0.000222\n",
      "... results of epoch 13/30 [43.33 %]: train_loss = 0.00971,\tvalid_loss = 0.00932,\tdelta_loss = 0.000389\n",
      "... results of epoch 14/30 [46.67 %]: train_loss = 0.00900,\tvalid_loss = 0.00855,\tdelta_loss = 0.000445\n",
      "... results of epoch 15/30 [50.00 %]: train_loss = 0.00821,\tvalid_loss = 0.00763,\tdelta_loss = 0.000573\n",
      "... results of epoch 16/30 [53.33 %]: train_loss = 0.00748,\tvalid_loss = 0.00721,\tdelta_loss = 0.000263\n",
      "... results of epoch 17/30 [56.67 %]: train_loss = 0.00706,\tvalid_loss = 0.00681,\tdelta_loss = 0.000250\n",
      "... results of epoch 18/30 [60.00 %]: train_loss = 0.00676,\tvalid_loss = 0.00666,\tdelta_loss = 0.000099\n",
      "... results of epoch 19/30 [63.33 %]: train_loss = 0.00661,\tvalid_loss = 0.00648,\tdelta_loss = 0.000132\n",
      "... results of epoch 20/30 [66.67 %]: train_loss = 0.00650,\tvalid_loss = 0.00627,\tdelta_loss = 0.000237\n",
      "... results of epoch 21/30 [70.00 %]: train_loss = 0.00644,\tvalid_loss = 0.00636,\tdelta_loss = 0.000081\n",
      "... results of epoch 22/30 [73.33 %]: train_loss = 0.00639,\tvalid_loss = 0.00642,\tdelta_loss = -0.000023\n",
      "... results of epoch 23/30 [76.67 %]: train_loss = 0.00640,\tvalid_loss = 0.00624,\tdelta_loss = 0.000163\n",
      "... results of epoch 24/30 [80.00 %]: train_loss = 0.00633,\tvalid_loss = 0.00620,\tdelta_loss = 0.000136\n",
      "... results of epoch 25/30 [83.33 %]: train_loss = 0.00628,\tvalid_loss = 0.00615,\tdelta_loss = 0.000133\n",
      "... results of epoch 26/30 [86.67 %]: train_loss = 0.00624,\tvalid_loss = 0.00615,\tdelta_loss = 0.000088\n",
      "... results of epoch 27/30 [90.00 %]: train_loss = 0.00628,\tvalid_loss = 0.00618,\tdelta_loss = 0.000103\n",
      "... results of epoch 28/30 [93.33 %]: train_loss = 0.00622,\tvalid_loss = 0.00616,\tdelta_loss = 0.000054\n",
      "... results of epoch 29/30 [96.67 %]: train_loss = 0.00624,\tvalid_loss = 0.00611,\tdelta_loss = 0.000123\n",
      "... results of epoch 30/30 [100.00 %]: train_loss = 0.00617,\tvalid_loss = 0.00602,\tdelta_loss = 0.000145\n",
      "\n",
      "Training ends on: 16:14:32\n",
      "Training runs: 0:01:50.534677\n",
      "\n",
      "=================================================================\n",
      "Do Validation with best model: /home/silas/PycharmProjects/denspp.offline/3_Python/runs/20250327_161241_train_dnn_ae_v1_Q_8_5_ae/model_ae_fold000_epoch0029.pth\n",
      "... preparing results for plot generation\n",
      "... saving results: /home/silas/PycharmProjects/denspp.offline/3_Python/runs/20250327_161241_train_dnn_ae_v1_Q_8_5_ae/results_ae.npy\n",
      "\n",
      "Print summary of model\n",
      "\n",
      "\n",
      "\n",
      "\n",
      "Using PyTorch with Intel(R) Core(TM) i7-8565U CPU @ 1.80GHz (@ 3.600 GHz) on Linux\n",
      "dict_keys(['snr_in', 'snr_in_cl', 'snr_out', 'snr_out_cl', 'dsnr_all', 'dsnr_cl'])\n",
      "\n",
      "Training starts on 16:14:35\n",
      "=====================================================================================\n",
      "... results of epoch 1/30 [3.33 %]: train_loss = 0.15284,\tvalid_loss = 0.09586,\tdelta_loss = 0.056989\n",
      "... results of epoch 2/30 [6.67 %]: train_loss = 0.07213,\tvalid_loss = 0.05062,\tdelta_loss = 0.021509\n",
      "... results of epoch 3/30 [10.00 %]: train_loss = 0.03702,\tvalid_loss = 0.02585,\tdelta_loss = 0.011171\n",
      "... results of epoch 4/30 [13.33 %]: train_loss = 0.01981,\tvalid_loss = 0.01562,\tdelta_loss = 0.004194\n",
      "... results of epoch 5/30 [16.67 %]: train_loss = 0.01366,\tvalid_loss = 0.01270,\tdelta_loss = 0.000958\n",
      "... results of epoch 6/30 [20.00 %]: train_loss = 0.01206,\tvalid_loss = 0.01191,\tdelta_loss = 0.000148\n",
      "... results of epoch 7/30 [23.33 %]: train_loss = 0.01159,\tvalid_loss = 0.01157,\tdelta_loss = 0.000018\n",
      "... results of epoch 8/30 [26.67 %]: train_loss = 0.01134,\tvalid_loss = 0.01144,\tdelta_loss = -0.000101\n",
      "... results of epoch 9/30 [30.00 %]: train_loss = 0.01120,\tvalid_loss = 0.01137,\tdelta_loss = -0.000163\n",
      "... results of epoch 10/30 [33.33 %]: train_loss = 0.01108,\tvalid_loss = 0.01123,\tdelta_loss = -0.000149\n",
      "... results of epoch 11/30 [36.67 %]: train_loss = 0.01096,\tvalid_loss = 0.01109,\tdelta_loss = -0.000132\n",
      "... results of epoch 12/30 [40.00 %]: train_loss = 0.01080,\tvalid_loss = 0.01095,\tdelta_loss = -0.000147\n",
      "... results of epoch 13/30 [43.33 %]: train_loss = 0.01061,\tvalid_loss = 0.01071,\tdelta_loss = -0.000096\n",
      "... results of epoch 14/30 [46.67 %]: train_loss = 0.01037,\tvalid_loss = 0.01044,\tdelta_loss = -0.000068\n",
      "... results of epoch 15/30 [50.00 %]: train_loss = 0.01012,\tvalid_loss = 0.01014,\tdelta_loss = -0.000023\n",
      "... results of epoch 16/30 [53.33 %]: train_loss = 0.00978,\tvalid_loss = 0.00984,\tdelta_loss = -0.000061\n",
      "... results of epoch 17/30 [56.67 %]: train_loss = 0.00935,\tvalid_loss = 0.00929,\tdelta_loss = 0.000065\n",
      "... results of epoch 18/30 [60.00 %]: train_loss = 0.00887,\tvalid_loss = 0.00887,\tdelta_loss = 0.000002\n",
      "... results of epoch 19/30 [63.33 %]: train_loss = 0.00845,\tvalid_loss = 0.00845,\tdelta_loss = -0.000000\n",
      "... results of epoch 20/30 [66.67 %]: train_loss = 0.00803,\tvalid_loss = 0.00808,\tdelta_loss = -0.000044\n",
      "... results of epoch 21/30 [70.00 %]: train_loss = 0.00777,\tvalid_loss = 0.00781,\tdelta_loss = -0.000044\n",
      "... results of epoch 22/30 [73.33 %]: train_loss = 0.00757,\tvalid_loss = 0.00759,\tdelta_loss = -0.000027\n",
      "... results of epoch 23/30 [76.67 %]: train_loss = 0.00737,\tvalid_loss = 0.00745,\tdelta_loss = -0.000080\n",
      "... results of epoch 24/30 [80.00 %]: train_loss = 0.00720,\tvalid_loss = 0.00726,\tdelta_loss = -0.000056\n",
      "... results of epoch 25/30 [83.33 %]: train_loss = 0.00698,\tvalid_loss = 0.00696,\tdelta_loss = 0.000023\n",
      "... results of epoch 26/30 [86.67 %]: train_loss = 0.00669,\tvalid_loss = 0.00664,\tdelta_loss = 0.000046\n",
      "... results of epoch 27/30 [90.00 %]: train_loss = 0.00640,\tvalid_loss = 0.00636,\tdelta_loss = 0.000041\n",
      "... results of epoch 28/30 [93.33 %]: train_loss = 0.00616,\tvalid_loss = 0.00622,\tdelta_loss = -0.000060\n",
      "... results of epoch 29/30 [96.67 %]: train_loss = 0.00606,\tvalid_loss = 0.00610,\tdelta_loss = -0.000042\n",
      "... results of epoch 30/30 [100.00 %]: train_loss = 0.00594,\tvalid_loss = 0.00600,\tdelta_loss = -0.000061\n",
      "\n",
      "Training ends on: 16:19:30\n",
      "Training runs: 0:04:55.449155\n",
      "\n",
      "=================================================================\n",
      "Do Validation with best model: /home/silas/PycharmProjects/denspp.offline/3_Python/runs/20250327_161435_train_dnn_ae_v1_Q_10_6_ae/model_ae_fold000_epoch0029.pth\n",
      "... preparing results for plot generation\n",
      "... saving results: /home/silas/PycharmProjects/denspp.offline/3_Python/runs/20250327_161435_train_dnn_ae_v1_Q_10_6_ae/results_ae.npy\n",
      "\n",
      "Print summary of model\n",
      "\n",
      "\n",
      "\n",
      "\n",
      "Using PyTorch with Intel(R) Core(TM) i7-8565U CPU @ 1.80GHz (@ 3.303 GHz) on Linux\n",
      "dict_keys(['snr_in', 'snr_in_cl', 'snr_out', 'snr_out_cl', 'dsnr_all', 'dsnr_cl'])\n",
      "\n",
      "Training starts on 16:19:35\n",
      "=====================================================================================\n",
      "... results of epoch 1/30 [3.33 %]: train_loss = 0.16510,\tvalid_loss = 0.09653,\tdelta_loss = 0.068566\n",
      "... results of epoch 2/30 [6.67 %]: train_loss = 0.05736,\tvalid_loss = 0.03092,\tdelta_loss = 0.026439\n",
      "... results of epoch 3/30 [10.00 %]: train_loss = 0.02401,\tvalid_loss = 0.01882,\tdelta_loss = 0.005188\n",
      "... results of epoch 4/30 [13.33 %]: train_loss = 0.01605,\tvalid_loss = 0.01334,\tdelta_loss = 0.002703\n",
      "... results of epoch 5/30 [16.67 %]: train_loss = 0.01251,\tvalid_loss = 0.01159,\tdelta_loss = 0.000919\n",
      "... results of epoch 6/30 [20.00 %]: train_loss = 0.01150,\tvalid_loss = 0.01104,\tdelta_loss = 0.000460\n",
      "... results of epoch 7/30 [23.33 %]: train_loss = 0.01100,\tvalid_loss = 0.01049,\tdelta_loss = 0.000514\n",
      "... results of epoch 8/30 [26.67 %]: train_loss = 0.01039,\tvalid_loss = 0.00971,\tdelta_loss = 0.000675\n",
      "... results of epoch 9/30 [30.00 %]: train_loss = 0.00910,\tvalid_loss = 0.00801,\tdelta_loss = 0.001091\n",
      "... results of epoch 10/30 [33.33 %]: train_loss = 0.00750,\tvalid_loss = 0.00681,\tdelta_loss = 0.000697\n",
      "... results of epoch 11/30 [36.67 %]: train_loss = 0.00659,\tvalid_loss = 0.00625,\tdelta_loss = 0.000340\n",
      "... results of epoch 12/30 [40.00 %]: train_loss = 0.00621,\tvalid_loss = 0.00601,\tdelta_loss = 0.000193\n",
      "... results of epoch 13/30 [43.33 %]: train_loss = 0.00604,\tvalid_loss = 0.00589,\tdelta_loss = 0.000155\n",
      "... results of epoch 14/30 [46.67 %]: train_loss = 0.00596,\tvalid_loss = 0.00588,\tdelta_loss = 0.000079\n",
      "... results of epoch 15/30 [50.00 %]: train_loss = 0.00591,\tvalid_loss = 0.00585,\tdelta_loss = 0.000057\n",
      "... results of epoch 16/30 [53.33 %]: train_loss = 0.00587,\tvalid_loss = 0.00573,\tdelta_loss = 0.000132\n",
      "... results of epoch 17/30 [56.67 %]: train_loss = 0.00582,\tvalid_loss = 0.00570,\tdelta_loss = 0.000123\n",
      "... results of epoch 18/30 [60.00 %]: train_loss = 0.00580,\tvalid_loss = 0.00567,\tdelta_loss = 0.000123\n",
      "... results of epoch 19/30 [63.33 %]: train_loss = 0.00577,\tvalid_loss = 0.00565,\tdelta_loss = 0.000119\n",
      "... results of epoch 20/30 [66.67 %]: train_loss = 0.00575,\tvalid_loss = 0.00565,\tdelta_loss = 0.000096\n",
      "... results of epoch 21/30 [70.00 %]: train_loss = 0.00573,\tvalid_loss = 0.00563,\tdelta_loss = 0.000099\n",
      "... results of epoch 22/30 [73.33 %]: train_loss = 0.00571,\tvalid_loss = 0.00559,\tdelta_loss = 0.000120\n",
      "... results of epoch 23/30 [76.67 %]: train_loss = 0.00568,\tvalid_loss = 0.00561,\tdelta_loss = 0.000077\n",
      "... results of epoch 24/30 [80.00 %]: train_loss = 0.00566,\tvalid_loss = 0.00555,\tdelta_loss = 0.000111\n",
      "... results of epoch 25/30 [83.33 %]: train_loss = 0.00564,\tvalid_loss = 0.00551,\tdelta_loss = 0.000130\n",
      "... results of epoch 26/30 [86.67 %]: train_loss = 0.00562,\tvalid_loss = 0.00552,\tdelta_loss = 0.000104\n",
      "... results of epoch 27/30 [90.00 %]: train_loss = 0.00559,\tvalid_loss = 0.00550,\tdelta_loss = 0.000099\n",
      "... results of epoch 28/30 [93.33 %]: train_loss = 0.00557,\tvalid_loss = 0.00547,\tdelta_loss = 0.000104\n",
      "... results of epoch 29/30 [96.67 %]: train_loss = 0.00554,\tvalid_loss = 0.00545,\tdelta_loss = 0.000095\n",
      "... results of epoch 30/30 [100.00 %]: train_loss = 0.00553,\tvalid_loss = 0.00545,\tdelta_loss = 0.000074\n",
      "\n",
      "Training ends on: 16:37:28\n",
      "Training runs: 0:17:52.345314\n",
      "\n",
      "=================================================================\n",
      "Do Validation with best model: /home/silas/PycharmProjects/denspp.offline/3_Python/runs/20250327_161935_train_dnn_ae_v1_Q_12_9_ae/model_ae_fold000_epoch0028.pth\n",
      "... preparing results for plot generation\n",
      "... saving results: /home/silas/PycharmProjects/denspp.offline/3_Python/runs/20250327_161935_train_dnn_ae_v1_Q_12_9_ae/results_ae.npy\n"
     ]
    }
   ],
   "execution_count": 12
  },
  {
   "metadata": {
    "ExecuteTime": {
     "end_time": "2025-03-27T15:53:29.971273Z",
     "start_time": "2025-03-27T15:53:29.576765Z"
    }
   },
   "cell_type": "code",
   "source": [
    "fig, ax = plt.subplots()\n",
    "\n",
    "model_4_2_loss_train = model_4_2_stats['metrics']['fold_000']['loss_train']\n",
    "model_4_2_loss_valid = model_4_2_stats['metrics']['fold_000']['loss_valid']\n",
    "\n",
    "model_6_3_loss_train = model_6_3_stats['metrics']['fold_000']['loss_train']\n",
    "model_6_3_loss_valid = model_6_3_stats['metrics']['fold_000']['loss_valid']\n",
    "\n",
    "model_8_5_loss_train = model_8_5_stats['metrics']['fold_000']['loss_train']\n",
    "model_8_5_loss_valid = model_8_5_stats['metrics']['fold_000']['loss_valid']\n",
    "\n",
    "model_10_6_loss_train = model_10_6_stats['metrics']['fold_000']['loss_train']\n",
    "model_10_6_loss_valid = model_10_6_stats['metrics']['fold_000']['loss_valid']\n",
    "\n",
    "model_12_9_loss_train = model_12_9_stats['metrics']['fold_000']['loss_train']\n",
    "model_12_9_loss_valid = model_12_9_stats['metrics']['fold_000']['loss_valid']\n",
    "\n",
    "epochs_ite = np.array([idx+1 for idx in range(len(model_4_2_loss_train))])\n",
    "\n",
    "ax.plot(epochs_ite, model_4_2_loss_valid, label=r'Model $Q^{TC}_{2.2}$') #, linestyle='solid', marker='.', color='blue')\n",
    "ax.plot(epochs_ite, model_6_3_loss_valid, label=r'Model $Q^{TC}_{3.3}$')\n",
    "ax.plot(epochs_ite, model_8_5_loss_valid, label=r'Model $Q^{TC}_{3.5}$')\n",
    "ax.plot(epochs_ite, model_10_6_loss_valid, label='Model $Q^{TC}_{4.6}$')\n",
    "ax.plot(epochs_ite, model_12_9_loss_valid, label='Model $Q^{TC}_{3.9}$')\n",
    "\n",
    "font = {'size'   : 10}\n",
    "\n",
    "ax.grid()\n",
    "ax.legend(fontsize=font['size'], loc='upper right')\n",
    "ax.margins(0)\n",
    "ax.set_yscale('log')\n",
    "ax.set_xlabel('Epoch', fontdict=font)\n",
    "ax.set_ylabel('Validation Loss', fontdict=font)\n",
    "ax.set_title(label='Validation Loss of Quantized Models', fontdict=font)\n",
    "\n",
    "# Save Plot in runs Folder\n",
    "index_folder = 'compare'\n",
    "model_names = 'quantization_comparison'\n",
    "folder_name = f'runs/comparisons/{datetime.now().strftime(\"%Y%m%d_%H%M%S\")}_{index_folder}_{model_names}'\n",
    "os.makedirs(folder_name, exist_ok=True)\n",
    "fig.savefig(f'{folder_name}/quant_comparison.eps', format='eps')"
   ],
   "id": "fd6f026218c72841",
   "outputs": [
    {
     "name": "stderr",
     "output_type": "stream",
     "text": [
      "The PostScript backend does not support transparency; partially transparent artists will be rendered opaque.\n"
     ]
    },
    {
     "data": {
      "text/plain": [
       "<Figure size 640x480 with 1 Axes>"
      ],
      "image/png": "[encoded data removed]"
     },
     "metadata": {},
     "output_type": "display_data"
    }
   ],
   "execution_count": 15
  }
 ],
 "metadata": {
  "kernelspec": {
   "display_name": "Python 3",
   "language": "python",
   "name": "python3"
  },
  "language_info": {
   "codemirror_mode": {
    "name": "ipython",
    "version": 2
   },
   "file_extension": ".py",
   "mimetype": "text/x-python",
   "name": "python",
   "nbconvert_exporter": "python",
   "pygments_lexer": "ipython2",
   "version": "2.7.6"
  }
 },
 "nbformat": 4,
 "nbformat_minor": 5
}
