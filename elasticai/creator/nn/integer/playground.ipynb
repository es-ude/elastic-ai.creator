{
 "cells": [
  {
   "cell_type": "code",
   "execution_count": 1,
   "metadata": {},
   "outputs": [],
   "source": [
    "import torch\n"
   ]
  },
  {
   "cell_type": "code",
   "execution_count": 4,
   "metadata": {},
   "outputs": [
    {
     "data": {
      "text/plain": [
       "tensor([[[ 126, -121,   73,    5],\n",
       "         [  68, -128,   80,  -73],\n",
       "         [ -28,  -33,   65,  -93]],\n",
       "\n",
       "        [[ -90,   53, -107,   80],\n",
       "         [   6, -125,  -12,  -38],\n",
       "         [  17, -113,  -37,   -6]]], dtype=torch.int32)"
      ]
     },
     "execution_count": 4,
     "metadata": {},
     "output_type": "execute_result"
    }
   ],
   "source": [
    "# a is a 3d tensor with random values of 8-bit quantization\n",
    "\n",
    "a = torch.randint(-128,127, (2, 3, 4), dtype=torch.int32)\n",
    "a"
   ]
  },
  {
   "cell_type": "code",
   "execution_count": 5,
   "metadata": {},
   "outputs": [
    {
     "data": {
      "text/plain": [
       "tensor([[[ 134,  -14,   21,   76],\n",
       "         [  37,  -63,  -19, -143],\n",
       "         [  85,  -78,  -10,  -81]],\n",
       "\n",
       "        [[-202,  -60,    4,    0],\n",
       "         [  19, -201,   86, -148],\n",
       "         [ -62, -208,   81,    2]]], dtype=torch.int32)"
      ]
     },
     "execution_count": 5,
     "metadata": {},
     "output_type": "execute_result"
    }
   ],
   "source": [
    "a = torch.tensor(\n",
    "            [\n",
    "                [[8, 107, -52, 71], [-31, 65, -99, -70], [113, -45, -75, 12]],\n",
    "                [[-112, -113, 111, -80], [13, -76, 98, -110], [-79, -95, 118, 8]],\n",
    "            ],\n",
    "            dtype=torch.int32,\n",
    "        )\n",
    "\n",
    "b = torch.tensor(\n",
    "            [\n",
    "                [[126, -121, 73, 5], [68, -128, 80, -73], [-28, -33, 65, -93]],\n",
    "                [[-90, 53, -107, 80], [6, -125, -12, -38], [17, -113, -37, -6]],\n",
    "            ],\n",
    "            dtype=torch.int32,\n",
    "        )\n",
    "\n",
    "a+b"
   ]
  }
 ],
 "metadata": {
  "kernelspec": {
   "display_name": "creator_venv",
   "language": "python",
   "name": "python3"
  },
  "language_info": {
   "codemirror_mode": {
    "name": "ipython",
    "version": 3
   },
   "file_extension": ".py",
   "mimetype": "text/x-python",
   "name": "python",
   "nbconvert_exporter": "python",
   "pygments_lexer": "ipython3",
   "version": "3.11.9"
  }
 },
 "nbformat": 4,
 "nbformat_minor": 2
}
