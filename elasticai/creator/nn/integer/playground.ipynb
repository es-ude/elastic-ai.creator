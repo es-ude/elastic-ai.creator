{
 "cells": [
  {
   "cell_type": "code",
   "execution_count": 1,
   "metadata": {},
   "outputs": [],
   "source": [
    "import torch\n",
    "\n",
    "from elasticai.creator.nn.integer.linear.linear import Linear\n",
    "from elasticai.creator.nn.integer.math_operations.MathOperations import MathOperations\n",
    "from elasticai.creator.nn.integer.quant_utils.Observers import GlobalMinMaxObserver\n",
    "from elasticai.creator.nn.integer.quant_utils.scaling_M import scaling_M\n",
    "\n",
    "\n",
    "def linear_layer_setup():\n",
    "    linear_layer = Linear(\n",
    "        in_features=3, out_features=10, bias=True, name=\"linear\", quant_bits=8\n",
    "    )\n",
    "    inputs = torch.tensor(\n",
    "        [\n",
    "            [-1.0, 0.5, 0.5],\n",
    "            [0.5, 0.5, -0.5],\n",
    "            [-0.5, 0.0, 0.5],\n",
    "        ],\n",
    "        dtype=torch.float32,\n",
    "    )\n",
    "\n",
    "    linear_layer.weight.data = torch.tensor(\n",
    "        [\n",
    "            [0.5, -0.5, 0.3],\n",
    "            [0.2, -0.2, 0.1],\n",
    "            [0.4, -0.4, 0.2],\n",
    "            [0.6, -0.6, 0.3],\n",
    "            [0.7, -0.7, 0.4],\n",
    "            [0.8, -0.8, 0.5],\n",
    "            [0.9, -0.9, 0.6],\n",
    "            [1.0, -1.0, 0.7],\n",
    "            [1.1, -1.1, 0.8],\n",
    "            [1.2, -1.2, 0.9],\n",
    "        ],\n",
    "        dtype=torch.float32,\n",
    "    )\n",
    "\n",
    "    linear_layer.bias.data = torch.tensor(\n",
    "        [0.5, -0.5, 0.3, 0.2, -0.2, 0.1, 0.4, -0.4, 0.2, 0.6], dtype=torch.float32\n",
    "    )\n",
    "\n",
    "    outputs = inputs.mm(linear_layer.weight.t()) + linear_layer.bias\n",
    "    print(outputs)\n",
    "\n",
    "    return linear_layer, inputs, outputs"
   ]
  },
  {
   "cell_type": "code",
   "execution_count": 3,
   "metadata": {},
   "outputs": [
    {
     "name": "stdout",
     "output_type": "stream",
     "text": [
      "tensor([[-0.1000, -0.7500, -0.2000, -0.5500, -1.0500, -0.8500, -0.6500, -1.5500,\n",
      "         -1.0500, -0.7500],\n",
      "        [ 0.3500, -0.5500,  0.2000,  0.0500, -0.4000, -0.1500,  0.1000, -0.7500,\n",
      "         -0.2000,  0.1500],\n",
      "        [ 0.4000, -0.5500,  0.2000,  0.0500, -0.3500, -0.0500,  0.2500, -0.5500,\n",
      "          0.0500,  0.4500]], grad_fn=<AddBackward0>)\n"
     ]
    }
   ],
   "source": [
    "linear_layer, inputs, outputs = linear_layer_setup()"
   ]
  }
 ],
 "metadata": {
  "kernelspec": {
   "display_name": "creator_venv",
   "language": "python",
   "name": "python3"
  },
  "language_info": {
   "codemirror_mode": {
    "name": "ipython",
    "version": 3
   },
   "file_extension": ".py",
   "mimetype": "text/x-python",
   "name": "python",
   "nbconvert_exporter": "python",
   "pygments_lexer": "ipython3",
   "version": "3.11.9"
  }
 },
 "nbformat": 4,
 "nbformat_minor": 2
}
