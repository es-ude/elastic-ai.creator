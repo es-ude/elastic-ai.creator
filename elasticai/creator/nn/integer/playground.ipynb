{
 "cells": [
  {
   "cell_type": "code",
   "execution_count": 6,
   "metadata": {},
   "outputs": [],
   "source": [
    "import  torch"
   ]
  },
  {
   "cell_type": "code",
   "execution_count": 7,
   "metadata": {},
   "outputs": [
    {
     "name": "stdout",
     "output_type": "stream",
     "text": [
      "min_float:  tensor(-1.5000)\n",
      "max_float:  tensor(3.)\n",
      "scale_factor:  tensor(0.0176)\n",
      "zero_point:  tensor(-85.)\n"
     ]
    }
   ],
   "source": [
    "x_r = torch.tensor([0.5, -1.5, 3.0, 2.5, -0.5], dtype=torch.float32)\n",
    "grad_output = torch.tensor([1.0, 1.0, 1.0, 1.0, 1.0], dtype=torch.float32)\n",
    "\n",
    "min_quant = torch.tensor(-128, dtype=torch.int32)\n",
    "max_quant = torch.tensor(127, dtype=torch.int32)\n",
    "\n",
    "min_float = torch.min(x_r)\n",
    "max_float = torch.max(x_r)\n",
    "print(\"min_float: \", min_float)\n",
    "print(\"max_float: \", max_float)\n",
    "\n",
    "scale_factor = (max_float - min_float) / (max_quant - min_quant)\n",
    "zero_point = torch.round(min_float / scale_factor)\n",
    "print(\"scale_factor: \", scale_factor)\n",
    "print(\"zero_point: \", zero_point)"
   ]
  }
 ],
 "metadata": {
  "kernelspec": {
   "display_name": "creator_venv",
   "language": "python",
   "name": "python3"
  },
  "language_info": {
   "codemirror_mode": {
    "name": "ipython",
    "version": 3
   },
   "file_extension": ".py",
   "mimetype": "text/x-python",
   "name": "python",
   "nbconvert_exporter": "python",
   "pygments_lexer": "ipython3",
   "version": "3.11.9"
  }
 },
 "nbformat": 4,
 "nbformat_minor": 2
}
