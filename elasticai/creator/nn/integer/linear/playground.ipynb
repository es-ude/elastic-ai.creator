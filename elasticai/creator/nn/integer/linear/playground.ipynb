{
 "cells": [
  {
   "cell_type": "code",
   "execution_count": 13,
   "metadata": {},
   "outputs": [],
   "source": [
    "import torch\n"
   ]
  },
  {
   "cell_type": "code",
   "execution_count": 14,
   "metadata": {},
   "outputs": [],
   "source": [
    "input_data = torch.tensor(\n",
    "        [\n",
    "            [-1.0, 0.5, 0.5],\n",
    "            [0.5, 0.5, -0.5],\n",
    "            [-0.5, 0.0, 0.5],\n",
    "        ],\n",
    "        dtype=torch.float32,\n",
    "    )\n",
    "\n",
    "weight_data = torch.tensor(\n",
    "        [\n",
    "            [0.5, -0.5, 0.3],\n",
    "            [0.2, -0.2, 0.1],\n",
    "            [0.4, -0.4, 0.2],\n",
    "            [0.6, -0.6, 0.3],\n",
    "            [0.7, -0.7, 0.4],\n",
    "            [0.8, -0.8, 0.5],\n",
    "            [0.9, -0.9, 0.6],\n",
    "            [1.0, -1.0, 0.7],\n",
    "            [1.1, -1.1, 0.8],\n",
    "            [1.2, -1.2, 0.9],\n",
    "        ],\n",
    "        dtype=torch.float32,\n",
    "    )\n",
    "\n",
    "bias_data = torch.tensor(\n",
    "    [0.5, -0.5, 0.3, 0.2, -0.2, 0.1, 0.4, -0.4, 0.2, 0.6], dtype=torch.float32\n",
    ")"
   ]
  },
  {
   "cell_type": "code",
   "execution_count": 15,
   "metadata": {},
   "outputs": [
    {
     "name": "stdout",
     "output_type": "stream",
     "text": [
      "tensor([[-0.1000, -0.7500, -0.2000, -0.5500, -1.0500, -0.8500, -0.6500, -1.5500,\n",
      "         -1.0500, -0.7500],\n",
      "        [ 0.3500, -0.5500,  0.2000,  0.0500, -0.4000, -0.1500,  0.1000, -0.7500,\n",
      "         -0.2000,  0.1500],\n",
      "        [ 0.4000, -0.5500,  0.2000,  0.0500, -0.3500, -0.0500,  0.2500, -0.5500,\n",
      "          0.0500,  0.4500]])\n"
     ]
    }
   ],
   "source": [
    "output_data = input_data.mm(weight_data.t()) + bias_data    \n",
    "print(output_data)"
   ]
  },
  {
   "cell_type": "code",
   "execution_count": 16,
   "metadata": {},
   "outputs": [],
   "source": [
    "def calculate_asymmetric_quant_params(\n",
    "    min_float: torch.FloatTensor,\n",
    "    max_float: torch.FloatTensor,\n",
    "    min_quant: torch.IntTensor,\n",
    "    max_quant: torch.IntTensor,\n",
    "    eps: torch.FloatTensor,\n",
    "):\n",
    "    scale_factor = (max_float - min_float) / (max_quant.float() - min_quant.float())\n",
    "    scale_factor = torch.max(scale_factor, eps)\n",
    "\n",
    "    zero_point = max_quant - (max_float / scale_factor)\n",
    "    zero_point = zero_point.round_().clamp(min_quant, max_quant)\n",
    "\n",
    "    return scale_factor, zero_point, min_float, max_float"
   ]
  },
  {
   "cell_type": "code",
   "execution_count": 17,
   "metadata": {},
   "outputs": [],
   "source": [
    "def calculate_symmetric_quant_params(\n",
    "    min_float: torch.FloatTensor,\n",
    "    max_float: torch.FloatTensor,\n",
    "    min_quant: torch.IntTensor,\n",
    "    max_quant: torch.IntTensor,\n",
    "    eps: torch.FloatTensor,\n",
    "):\n",
    "    max_extent = torch.max(torch.abs(min_float), torch.abs(max_float))\n",
    "    max_float = max_extent\n",
    "    min_float = -max_extent\n",
    "\n",
    "    scale_factor = (max_float - min_float) / (max_quant.float() - min_quant.float())\n",
    "    scale_factor = torch.max(scale_factor, eps)\n",
    "\n",
    "    zero_point = torch.zeros(scale_factor.size())\n",
    "\n",
    "    return scale_factor, zero_point, min_float, max_float\n"
   ]
  },
  {
   "cell_type": "code",
   "execution_count": 18,
   "metadata": {},
   "outputs": [
    {
     "name": "stdout",
     "output_type": "stream",
     "text": [
      "scale_factor: 0.0058823530562222\n",
      "zero_point: tensor([42.])\n",
      "min_float: -1.0\n",
      "max_float: 0.5\n"
     ]
    }
   ],
   "source": [
    "scale_factor_input, zero_point, min_float, max_float = calculate_asymmetric_quant_params(\n",
    "    input_data.min(), \n",
    "    input_data.max(), \n",
    "    min_quant=torch.tensor([-128], dtype=torch.int32), \n",
    "    max_quant=torch.tensor([127], dtype=torch.int32), \n",
    "    eps=torch.tensor([1e-6], dtype=torch.float32)\n",
    ")\n",
    "print(f\"scale_factor: {scale_factor_input.item()}\")\n",
    "print(f\"zero_point: {zero_point}\")\n",
    "print(f\"min_float: {min_float.item()}\")\n",
    "print(f\"max_float: {max_float.item()}\")"
   ]
  },
  {
   "cell_type": "code",
   "execution_count": 19,
   "metadata": {},
   "outputs": [],
   "source": [
    "def quantize( x: torch.FloatTensor,\n",
    "        scale_factor: torch.FloatTensor,\n",
    "        zero_point: torch.IntTensor,\n",
    "        min_quant: torch.IntTensor,\n",
    "        max_quant: torch.IntTensor) -> torch.IntTensor:\n",
    "        x_q = x / scale_factor + zero_point\n",
    "        x_q = x_q.round_().clamp(min=min_quant.item(), max=max_quant.item())\n",
    "        x_q = x_q.to(torch.int32)\n",
    "        return x_q\n"
   ]
  },
  {
   "cell_type": "code",
   "execution_count": 20,
   "metadata": {},
   "outputs": [
    {
     "name": "stdout",
     "output_type": "stream",
     "text": [
      "scale_factor: 0.00941176526248455\n",
      "zero_point: tensor([-0.])\n",
      "min_float: -1.2000000476837158\n",
      "max_float: 1.2000000476837158\n"
     ]
    }
   ],
   "source": [
    "scale_factor_weight, zero_point, min_float, max_float = calculate_asymmetric_quant_params(\n",
    "    weight_data.min(), \n",
    "    weight_data.max(),\n",
    "    min_quant=torch.tensor([-128], dtype=torch.int32), \n",
    "    max_quant=torch.tensor([127], dtype=torch.int32), \n",
    "    eps=torch.tensor([1e-6], dtype=torch.float32)\n",
    ")\n",
    "print(f\"scale_factor: {scale_factor_weight.item()}\")\n",
    "print(f\"zero_point: {zero_point}\")\n",
    "print(f\"min_float: {min_float.item()}\")\n",
    "print(f\"max_float: {max_float.item()}\")"
   ]
  },
  {
   "cell_type": "code",
   "execution_count": 21,
   "metadata": {},
   "outputs": [
    {
     "name": "stdout",
     "output_type": "stream",
     "text": [
      "tensor([[  53,  -53,   32],\n",
      "        [  21,  -21,   11],\n",
      "        [  42,  -42,   21],\n",
      "        [  64,  -64,   32],\n",
      "        [  74,  -74,   42],\n",
      "        [  85,  -85,   53],\n",
      "        [  96,  -96,   64],\n",
      "        [ 106, -106,   74],\n",
      "        [ 117, -117,   85],\n",
      "        [ 127, -128,   96]], dtype=torch.int32)\n",
      "tensor([[  53,  -53,   32],\n",
      "        [  21,  -21,   11],\n",
      "        [  42,  -42,   21],\n",
      "        [  64,  -64,   32],\n",
      "        [  74,  -74,   42],\n",
      "        [  85,  -85,   53],\n",
      "        [  96,  -96,   64],\n",
      "        [ 106, -106,   74],\n",
      "        [ 117, -117,   85],\n",
      "        [ 127, -128,   96]], dtype=torch.int32)\n"
     ]
    }
   ],
   "source": [
    "q_weight = quantize(weight_data, \n",
    "                    scale_factor_weight, \n",
    "                    zero_point, \n",
    "                    min_quant=torch.tensor([-128], dtype=torch.int32), \n",
    "                    max_quant=torch.tensor([127], dtype=torch.int32))\n",
    "print(q_weight)\n",
    "q_weight = q_weight - zero_point\n",
    "print(q_weight.int())"
   ]
  },
  {
   "cell_type": "code",
   "execution_count": 22,
   "metadata": {},
   "outputs": [
    {
     "name": "stdout",
     "output_type": "stream",
     "text": [
      "scale_factor: 0.004724409431219101\n",
      "zero_point: tensor([0.])\n",
      "min_float: -0.6000000238418579\n",
      "max_float: 0.6000000238418579\n"
     ]
    }
   ],
   "source": [
    "scale_factor_bias, zero_point, min_float, max_float = calculate_symmetric_quant_params(\n",
    "    min_float=bias_data.min(),\n",
    "    max_float=bias_data.max(), \n",
    "    min_quant=torch.tensor([-127], dtype=torch.int32), \n",
    "    max_quant=torch.tensor([127], dtype=torch.int32), \n",
    "    eps=torch.tensor([1e-6], dtype=torch.float32)\n",
    "\n",
    ")\n",
    "print(f\"scale_factor: {scale_factor_bias.item()}\")\n",
    "print(f\"zero_point: {zero_point}\")\n",
    "print(f\"min_float: {min_float.item()}\")\n",
    "print(f\"max_float: {max_float.item()}\")"
   ]
  },
  {
   "cell_type": "code",
   "execution_count": 23,
   "metadata": {},
   "outputs": [
    {
     "name": "stdout",
     "output_type": "stream",
     "text": [
      "scale_factor: 0.007843137718737125\n",
      "zero_point: tensor([70.])\n",
      "min_float: -1.5499999523162842\n",
      "max_float: 0.44999998807907104\n"
     ]
    }
   ],
   "source": [
    "scale_factor_output, zero_point, min_float, max_float = calculate_asymmetric_quant_params(\n",
    "    min_float=output_data.min(),\n",
    "    max_float=output_data.max(), \n",
    "    min_quant=torch.tensor([-128], dtype=torch.int32), \n",
    "    max_quant=torch.tensor([127], dtype=torch.int32), \n",
    "    eps=torch.tensor([1e-6], dtype=torch.float32)\n",
    "\n",
    ")\n",
    "print(f\"scale_factor: {scale_factor_output.item()}\")\n",
    "print(f\"zero_point: {zero_point}\")\n",
    "print(f\"min_float: {min_float.item()}\")\n",
    "print(f\"max_float: {max_float.item()}\")"
   ]
  },
  {
   "cell_type": "code",
   "execution_count": 24,
   "metadata": {},
   "outputs": [
    {
     "name": "stdout",
     "output_type": "stream",
     "text": [
      "tensor([ 9031, -9031,  5419,  3612, -3612,  1806,  7225, -7225,  3612, 10838],\n",
      "       dtype=torch.int32)\n",
      "tensor([ 9031, -9031,  5419,  3612, -3612,  1806,  7225, -7225,  3612, 10838],\n",
      "       dtype=torch.int32)\n"
     ]
    }
   ],
   "source": [
    "quant_bits = 8+1+8+1\n",
    "min_quant = torch.tensor([-(1 << (quant_bits - 1))], dtype=torch.int32)\n",
    "max_quant = torch.tensor([(1 << (quant_bits - 1)) - 1], dtype=torch.int32)\n",
    "\n",
    "scale_factor_bias = scale_factor_input * scale_factor_weight\n",
    "zero_point = torch.tensor([0], dtype=torch.int32)\n",
    "\n",
    "q_bias = quantize(bias_data,\n",
    "                    scale_factor_bias, \n",
    "                    zero_point, \n",
    "                    min_quant=min_quant, \n",
    "                    max_quant=max_quant)\n",
    "print(q_bias)\n",
    "q_bias = q_bias - zero_point\n",
    "print(q_bias.int())"
   ]
  },
  {
   "cell_type": "code",
   "execution_count": null,
   "metadata": {},
   "outputs": [],
   "source": [
    "a = torch.tensor([[  53,  -53,   32],\n",
    "        [  21,  -21,   11],\n",
    "        [  42,  -42,   21],\n",
    "        [  64,  -64,   32],\n",
    "        [  74,  -74,   42],\n",
    "        [  85,  -85,   53],\n",
    "        [  96,  -96,   64],\n",
    "        [ 106, -106,   74],\n",
    "        [ 117, -117,   85],\n",
    "        [ 127, -128,   96]], dtype=torch.int32)"
   ]
  },
  {
   "cell_type": "code",
   "execution_count": null,
   "metadata": {},
   "outputs": [],
   "source": [
    "b = torch.tensor([ 9031, -9031,  5419,  3612, -3612,  1806,  7225, -7225,  3612, 10838],\n",
    "       dtype=torch.int32)"
   ]
  }
 ],
 "metadata": {
  "kernelspec": {
   "display_name": "creator_venv",
   "language": "python",
   "name": "python3"
  },
  "language_info": {
   "codemirror_mode": {
    "name": "ipython",
    "version": 3
   },
   "file_extension": ".py",
   "mimetype": "text/x-python",
   "name": "python",
   "nbconvert_exporter": "python",
   "pygments_lexer": "ipython3",
   "version": "3.11.9"
  }
 },
 "nbformat": 4,
 "nbformat_minor": 2
}
