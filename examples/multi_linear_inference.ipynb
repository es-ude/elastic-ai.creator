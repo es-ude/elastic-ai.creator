{
 "cells": [
  {
   "cell_type": "code",
   "id": "initial_id",
   "metadata": {
    "collapsed": true,
    "ExecuteTime": {
     "end_time": "2025-03-31T13:21:38.429639Z",
     "start_time": "2025-03-31T13:21:38.424246Z"
    }
   },
   "source": [
    "from itertools import chain\n",
    "\n",
    "import torch\n",
    "from torch import nn\n",
    "from torch.utils.data import random_split, DataLoader\n",
    "\n",
    "from elasticai.creator.nn.fixed_point._two_complement_fixed_point_config import FixedPointConfig\n",
    "from elasticai.creator.vhdl.testbench_helper import tensor_to_vhdl_vector\n",
    "from elasticai.creator.nn.fixed_point._number_conversion import bits_to_integer, bits_to_rational\n",
    "from elasticai.creator.vhdl.code_generation.code_abstractions import to_vhdl_binary_string\n",
    "from elasticai.creator.nn.fixed_point._math_operations import MathOperations\n",
    "from elasticai.creator.nn.fixed_point import Linear, Tanh, HardTanh, ReLU\n",
    "from elasticai.creator.nn.sequential import Sequential\n",
    "from elasticai.creator.vhdl.testbench_helper import tensor_to_vhdl_vector\n",
    "from examples.cable_length_dataset import CableLengthDataset\n",
    "from elasticai.creator.vhdl.code_generation.addressable import calculate_address_width\n",
    "\n",
    "from serial import Serial"
   ],
   "outputs": [],
   "execution_count": 39
  },
  {
   "metadata": {
    "ExecuteTime": {
     "end_time": "2025-03-31T13:21:38.454886Z",
     "start_time": "2025-03-31T13:21:38.450076Z"
    }
   },
   "cell_type": "code",
   "source": [
    "total_bits = 8\n",
    "frac_bits = 5\n",
    "config = FixedPointConfig(total_bits=total_bits, frac_bits=frac_bits)\n",
    "ops = MathOperations(config=config)\n",
    "config_double = FixedPointConfig(total_bits=2*total_bits, frac_bits=2*frac_bits)\n",
    "double_ops = MathOperations(config=config_double)"
   ],
   "id": "b3f5c597dd8e4093",
   "outputs": [],
   "execution_count": 40
  },
  {
   "metadata": {
    "ExecuteTime": {
     "end_time": "2025-03-31T13:21:38.512604Z",
     "start_time": "2025-03-31T13:21:38.498496Z"
    }
   },
   "cell_type": "code",
   "source": [
    "dataset = CableLengthDataset(\"fixed_current_training_data.csv\")\n",
    "\n",
    "train, valid, test = random_split(dataset, lengths=[0.8, 0.1, 0.1], generator=torch.Generator().manual_seed(0))\n",
    "train_dl = DataLoader(train, batch_size=1000, shuffle=True)\n",
    "valid_dl = DataLoader(valid, batch_size=1000, shuffle=True)\n",
    "test_dl = DataLoader(test, batch_size=1000, shuffle=True)"
   ],
   "id": "e66fcd854266d255",
   "outputs": [],
   "execution_count": 41
  },
  {
   "metadata": {
    "ExecuteTime": {
     "end_time": "2025-03-31T13:21:38.556705Z",
     "start_time": "2025-03-31T13:21:38.551865Z"
    }
   },
   "cell_type": "code",
   "source": [
    "test_data, test_data_label = dataset[5]\n",
    "test_data_1, test_data_1_label = dataset[500]\n",
    "test_data_2, test_data_2_label = dataset[1000]\n",
    "test_data_3, test_data_3_label = dataset[1500]\n",
    "print(test_data)"
   ],
   "id": "32f9d6e970bb9e46",
   "outputs": [
    {
     "name": "stdout",
     "output_type": "stream",
     "text": [
      "tensor([2.6197, 2.6543, 2.6839, 2.7106, 2.7356, 2.7583, 2.7800, 2.8006, 2.8202,\n",
      "        2.8390, 2.8567, 2.8739, 2.8903, 2.9060, 2.9212, 2.9357, 2.9497, 2.9632,\n",
      "        2.9764])\n"
     ]
    }
   ],
   "execution_count": 42
  },
  {
   "metadata": {
    "ExecuteTime": {
     "end_time": "2025-03-31T13:21:38.614854Z",
     "start_time": "2025-03-31T13:21:38.607859Z"
    }
   },
   "cell_type": "code",
   "source": [
    "q_test_data = ops.quantize(test_data)\n",
    "q_test_data_1 = ops.quantize(test_data_1)\n",
    "q_test_data_2 = ops.quantize(test_data_2)\n",
    "q_test_data_3 = ops.quantize(test_data_3)\n",
    "print(q_test_data)"
   ],
   "id": "596bce906a851e5d",
   "outputs": [
    {
     "name": "stdout",
     "output_type": "stream",
     "text": [
      "tensor([2.5938, 2.6250, 2.6562, 2.6875, 2.7188, 2.7500, 2.7500, 2.7812, 2.8125,\n",
      "        2.8125, 2.8438, 2.8438, 2.8750, 2.8750, 2.9062, 2.9062, 2.9375, 2.9375,\n",
      "        2.9688])\n"
     ]
    }
   ],
   "execution_count": 43
  },
  {
   "metadata": {
    "ExecuteTime": {
     "end_time": "2025-03-31T13:21:38.672542Z",
     "start_time": "2025-03-31T13:21:38.665571Z"
    }
   },
   "cell_type": "code",
   "source": [
    "print(tensor_to_vhdl_vector(q_test_data, config, True))\n",
    "print(tensor_to_vhdl_vector(q_test_data_1, config, True))\n",
    "print(tensor_to_vhdl_vector(q_test_data_2, config, True))\n",
    "print(tensor_to_vhdl_vector(q_test_data_3, config, True))"
   ],
   "id": "feb9f5505748791",
   "outputs": [
    {
     "name": "stdout",
     "output_type": "stream",
     "text": [
      "(\"01010011\",\"01010100\",\"01010101\",\"01010110\",\"01010111\",\"01011000\",\"01011000\",\"01011001\",\"01011010\",\"01011010\",\"01011011\",\"01011011\",\"01011100\",\"01011100\",\"01011101\",\"01011101\",\"01011110\",\"01011110\",\"01011111\")\n",
      "(\"01001110\",\"01010000\",\"01010010\",\"01010011\",\"01010101\",\"01010110\",\"01011000\",\"01011001\",\"01011010\",\"01011011\",\"01011100\",\"01011101\",\"01011110\",\"01011111\",\"01100000\",\"01100000\",\"01100001\",\"01100010\",\"01100010\")\n",
      "(\"00111011\",\"00111100\",\"00111100\",\"00111101\",\"00111110\",\"00111110\",\"00111111\",\"00111111\",\"00111111\",\"01000000\",\"01000000\",\"01000000\",\"01000001\",\"01000001\",\"01000001\",\"01000010\",\"01000010\",\"01000010\",\"01000010\")\n",
      "(\"00111101\",\"00111101\",\"00111110\",\"00111111\",\"00111111\",\"00111111\",\"01000000\",\"01000000\",\"01000000\",\"01000001\",\"01000001\",\"01000001\",\"01000001\",\"01000010\",\"01000010\",\"01000010\",\"01000010\",\"01000010\",\"01000011\")\n"
     ]
    }
   ],
   "execution_count": 44
  },
  {
   "metadata": {
    "ExecuteTime": {
     "end_time": "2025-03-31T13:21:38.723403Z",
     "start_time": "2025-03-31T13:21:38.718112Z"
    }
   },
   "cell_type": "code",
   "source": [
    "multi_linear = Sequential(\n",
    "    Linear(in_features=19, out_features=10, total_bits=total_bits, frac_bits=frac_bits, parallel=False),\n",
    "    Tanh(total_bits=total_bits, frac_bits=frac_bits, num_steps=2**8, sampling_intervall=(-4, 3.96875)),\n",
    "    Linear(in_features=10, out_features=4, total_bits=total_bits, frac_bits=frac_bits, parallel=True),\n",
    ")"
   ],
   "id": "66873eeb4821859a",
   "outputs": [],
   "execution_count": 45
  },
  {
   "metadata": {
    "ExecuteTime": {
     "end_time": "2025-03-31T13:21:38.781579Z",
     "start_time": "2025-03-31T13:21:38.773999Z"
    }
   },
   "cell_type": "code",
   "source": [
    "multi_linear.load_state_dict(torch.load(f=\"/home/silas/PycharmProjects/elastic-ai.creator/examples/build_dir/leds/eval_model_3bit.pth\"))\n",
    "multi_linear.eval()"
   ],
   "id": "102d94af2c2f8f3e",
   "outputs": [
    {
     "name": "stderr",
     "output_type": "stream",
     "text": [
      "/tmp/ipykernel_39215/3238117744.py:1: FutureWarning: You are using `torch.load` with `weights_only=False` (the current default value), which uses the default pickle module implicitly. It is possible to construct malicious pickle data which will execute arbitrary code during unpickling (See https://github.com/pytorch/pytorch/blob/main/SECURITY.md#untrusted-models for more details). In a future release, the default value for `weights_only` will be flipped to `True`. This limits the functions that could be executed during unpickling. Arbitrary objects will no longer be allowed to be loaded via this mode unless they are explicitly allowlisted by the user via `torch.serialization.add_safe_globals`. We recommend you start setting `weights_only=True` for any use case where you don't have full control of the loaded file. Please open an issue on GitHub for any issues related to this experimental feature.\n",
      "  multi_linear.load_state_dict(torch.load(f=\"/home/silas/PycharmProjects/elastic-ai.creator/examples/build_dir/leds/eval_model_3bit.pth\"))\n"
     ]
    },
    {
     "data": {
      "text/plain": [
       "Sequential(\n",
       "  (0): Linear(in_features=19, out_features=10, bias=True)\n",
       "  (1): Tanh(\n",
       "    (_base_module): Tanh()\n",
       "  )\n",
       "  (2): Linear(in_features=10, out_features=4, bias=True)\n",
       ")"
      ]
     },
     "execution_count": 46,
     "metadata": {},
     "output_type": "execute_result"
    }
   ],
   "execution_count": 46
  },
  {
   "metadata": {
    "ExecuteTime": {
     "end_time": "2025-03-31T13:21:38.834613Z",
     "start_time": "2025-03-31T13:21:38.831521Z"
    }
   },
   "cell_type": "code",
   "source": [
    "#with torch.no_grad():\n",
    "#    multi_linear[0].weight.data = ops.quantize(multi_linear[0].weight)\n",
    "#    multi_linear[0].bias.data = ops.quantize(multi_linear[0].bias)\n",
    "#    multi_linear[2].weight.data = ops.quantize(multi_linear[2].weight)\n",
    "#    multi_linear[2].bias.data = ops.quantize(multi_linear[2].bias)"
   ],
   "id": "f0192dd7b645a3da",
   "outputs": [],
   "execution_count": 47
  },
  {
   "metadata": {
    "ExecuteTime": {
     "end_time": "2025-03-31T13:21:38.891031Z",
     "start_time": "2025-03-31T13:21:38.884484Z"
    }
   },
   "cell_type": "code",
   "source": "multi_linear[0].weight",
   "id": "2e4c6ab89b93244d",
   "outputs": [
    {
     "data": {
      "text/plain": [
       "Parameter containing:\n",
       "tensor([[ 0.2188,  0.0312,  0.0000,  0.0000,  0.1250, -0.1250, -0.0938,  0.0938,\n",
       "         -0.2188, -0.0938, -0.2188, -0.2188, -0.2188,  0.0625, -0.2188, -0.0625,\n",
       "         -0.0312, -0.0938, -0.0625],\n",
       "        [ 0.9688,  0.5938,  0.4688,  0.6562,  0.4688,  0.5000,  0.3125,  0.2188,\n",
       "          0.1875,  0.1250,  0.0625, -0.0312, -0.4688, -0.4062, -0.5000, -0.5625,\n",
       "         -0.2812, -0.6875, -0.6250],\n",
       "        [-0.8438, -0.6875, -0.7500, -0.2812, -0.5938, -0.4375, -0.3750,  0.0000,\n",
       "          0.1250, -0.0312,  0.1250,  0.1875,  0.3125,  0.3750,  0.4062,  0.5938,\n",
       "          0.5938,  0.3750,  0.5312],\n",
       "        [ 0.0938,  0.0625,  0.0625,  0.0000,  0.1875,  0.1562,  0.0938,  0.1250,\n",
       "         -0.1250,  0.2500,  0.2188,  0.0312,  0.2188,  0.0625,  0.0000,  0.1562,\n",
       "          0.1875,  0.1875,  0.0000],\n",
       "        [ 0.2500,  0.3750,  0.0312,  0.2500, -0.0625, -0.1562, -0.1562, -0.0938,\n",
       "          0.0312,  0.0938, -0.0312,  0.0000, -0.2812,  0.0000, -0.1562, -0.4375,\n",
       "         -0.4688, -0.1250, -0.1250],\n",
       "        [ 0.8125,  0.8125,  0.3125,  0.5625,  0.1562,  0.0938,  0.2500,  0.1562,\n",
       "         -0.1562, -0.1875, -0.2500, -0.1562, -0.4062, -0.2812, -0.2500, -0.2812,\n",
       "         -0.3438, -0.3125, -0.4375],\n",
       "        [-0.9062, -0.5312, -0.4375, -0.5000, -0.1250, -0.0938,  0.0312,  0.0000,\n",
       "          0.1562, -0.0938, -0.0625,  0.0938,  0.2188,  0.3125,  0.5312,  0.5312,\n",
       "          0.4062,  0.4062,  0.4062],\n",
       "        [ 0.0625, -0.1250, -0.1250,  0.0312, -0.0938, -0.1250,  0.0312, -0.1875,\n",
       "         -0.1250, -0.1875, -0.0625,  0.1250, -0.2812, -0.2500, -0.1875,  0.0938,\n",
       "         -0.0625, -0.2188, -0.2500],\n",
       "        [-0.7188, -0.7188, -0.5000, -0.5625, -0.3438, -0.0625,  0.0000, -0.0312,\n",
       "          0.1562,  0.1250,  0.0938,  0.0000,  0.3438,  0.2188,  0.2500,  0.1562,\n",
       "          0.2812,  0.6875,  0.7188],\n",
       "        [ 0.1562, -0.1562,  0.1250,  0.0938,  0.2188,  0.1562,  0.1250,  0.0000,\n",
       "         -0.1250,  0.2500, -0.0625,  0.1875,  0.0000,  0.0938, -0.0312, -0.0938,\n",
       "          0.1875,  0.0938, -0.0938]], requires_grad=True)"
      ]
     },
     "execution_count": 48,
     "metadata": {},
     "output_type": "execute_result"
    }
   ],
   "execution_count": 48
  },
  {
   "metadata": {
    "ExecuteTime": {
     "end_time": "2025-03-31T13:21:38.947787Z",
     "start_time": "2025-03-31T13:21:38.941678Z"
    }
   },
   "cell_type": "code",
   "source": [
    "mult1 = q_test_data * multi_linear[0].weight[0]\n",
    "mult1   "
   ],
   "id": "eb69904403fb8b06",
   "outputs": [
    {
     "data": {
      "text/plain": [
       "tensor([ 0.5674,  0.0820,  0.0000,  0.0000,  0.3398, -0.3438, -0.2578,  0.2607,\n",
       "        -0.6152, -0.2637, -0.6221, -0.6221, -0.6289,  0.1797, -0.6357, -0.1816,\n",
       "        -0.0918, -0.2754, -0.1855], grad_fn=<MulBackward0>)"
      ]
     },
     "execution_count": 49,
     "metadata": {},
     "output_type": "execute_result"
    }
   ],
   "execution_count": 49
  },
  {
   "metadata": {
    "ExecuteTime": {
     "end_time": "2025-03-31T13:21:39.004685Z",
     "start_time": "2025-03-31T13:21:38.999480Z"
    }
   },
   "cell_type": "code",
   "source": "torch.sum(mult1)",
   "id": "7095892f671af997",
   "outputs": [
    {
     "data": {
      "text/plain": [
       "tensor(-3.2939, grad_fn=<SumBackward0>)"
      ]
     },
     "execution_count": 50,
     "metadata": {},
     "output_type": "execute_result"
    }
   ],
   "execution_count": 50
  },
  {
   "metadata": {
    "ExecuteTime": {
     "end_time": "2025-03-31T13:21:39.060701Z",
     "start_time": "2025-03-31T13:21:39.055209Z"
    }
   },
   "cell_type": "code",
   "source": [
    "out1 = multi_linear[0](q_test_data)\n",
    "out1"
   ],
   "id": "b95a98712a149988",
   "outputs": [
    {
     "data": {
      "text/plain": [
       "tensor([-0.7500,  0.5312, -0.0625,  3.9688, -0.7188, -0.0625,  0.6562, -4.0000,\n",
       "         0.3125,  0.6562], grad_fn=<RoundToFixedPointBackward>)"
      ]
     },
     "execution_count": 51,
     "metadata": {},
     "output_type": "execute_result"
    }
   ],
   "execution_count": 51
  },
  {
   "metadata": {
    "ExecuteTime": {
     "end_time": "2025-03-31T13:21:39.121108Z",
     "start_time": "2025-03-31T13:21:39.111109Z"
    }
   },
   "cell_type": "code",
   "source": "multi_linear[1](out1)",
   "id": "25ef037e8a6695f5",
   "outputs": [
    {
     "data": {
      "text/plain": [
       "tensor([-0.6250,  0.4688, -0.0312,  0.9688, -0.5938, -0.0312,  0.5625, -0.9688,\n",
       "         0.2812,  0.5625], grad_fn=<RoundToFixedPointBackward>)"
      ]
     },
     "execution_count": 52,
     "metadata": {},
     "output_type": "execute_result"
    }
   ],
   "execution_count": 52
  },
  {
   "metadata": {
    "ExecuteTime": {
     "end_time": "2025-03-31T13:21:39.184127Z",
     "start_time": "2025-03-31T13:21:39.167851Z"
    }
   },
   "cell_type": "code",
   "source": [
    "from typing import cast\n",
    "from elasticai.creator.nn.fixed_point.precomputed.identity_step_function import IdentityStepFunction\n",
    "\n",
    "sampling_intervall = (-4, 3.96875)\n",
    "\n",
    "step_lut = torch.nn.Parameter(\n",
    "            torch.linspace(*sampling_intervall, 2**8), requires_grad=False)\n",
    "print(step_lut)\n",
    "\n",
    "cast(torch.Tensor, IdentityStepFunction.apply(out1, step_lut))"
   ],
   "id": "3a3a375a56e46c93",
   "outputs": [
    {
     "name": "stdout",
     "output_type": "stream",
     "text": [
      "Parameter containing:\n",
      "tensor([-4.0000, -3.9688, -3.9375, -3.9062, -3.8750, -3.8438, -3.8125, -3.7812,\n",
      "        -3.7500, -3.7188, -3.6875, -3.6562, -3.6250, -3.5938, -3.5625, -3.5312,\n",
      "        -3.5000, -3.4688, -3.4375, -3.4062, -3.3750, -3.3438, -3.3125, -3.2812,\n",
      "        -3.2500, -3.2188, -3.1875, -3.1562, -3.1250, -3.0938, -3.0625, -3.0312,\n",
      "        -3.0000, -2.9688, -2.9375, -2.9062, -2.8750, -2.8438, -2.8125, -2.7812,\n",
      "        -2.7500, -2.7188, -2.6875, -2.6562, -2.6250, -2.5938, -2.5625, -2.5312,\n",
      "        -2.5000, -2.4688, -2.4375, -2.4062, -2.3750, -2.3438, -2.3125, -2.2812,\n",
      "        -2.2500, -2.2188, -2.1875, -2.1562, -2.1250, -2.0938, -2.0625, -2.0312,\n",
      "        -2.0000, -1.9688, -1.9375, -1.9062, -1.8750, -1.8438, -1.8125, -1.7812,\n",
      "        -1.7500, -1.7188, -1.6875, -1.6562, -1.6250, -1.5938, -1.5625, -1.5312,\n",
      "        -1.5000, -1.4688, -1.4375, -1.4062, -1.3750, -1.3438, -1.3125, -1.2812,\n",
      "        -1.2500, -1.2188, -1.1875, -1.1562, -1.1250, -1.0938, -1.0625, -1.0312,\n",
      "        -1.0000, -0.9688, -0.9375, -0.9062, -0.8750, -0.8438, -0.8125, -0.7812,\n",
      "        -0.7500, -0.7188, -0.6875, -0.6562, -0.6250, -0.5938, -0.5625, -0.5312,\n",
      "        -0.5000, -0.4688, -0.4375, -0.4062, -0.3750, -0.3438, -0.3125, -0.2812,\n",
      "        -0.2500, -0.2188, -0.1875, -0.1562, -0.1250, -0.0938, -0.0625, -0.0312,\n",
      "         0.0000,  0.0312,  0.0625,  0.0938,  0.1250,  0.1562,  0.1875,  0.2188,\n",
      "         0.2500,  0.2812,  0.3125,  0.3438,  0.3750,  0.4062,  0.4375,  0.4688,\n",
      "         0.5000,  0.5312,  0.5625,  0.5938,  0.6250,  0.6562,  0.6875,  0.7188,\n",
      "         0.7500,  0.7812,  0.8125,  0.8438,  0.8750,  0.9062,  0.9375,  0.9688,\n",
      "         1.0000,  1.0312,  1.0625,  1.0938,  1.1250,  1.1562,  1.1875,  1.2188,\n",
      "         1.2500,  1.2812,  1.3125,  1.3438,  1.3750,  1.4062,  1.4375,  1.4688,\n",
      "         1.5000,  1.5312,  1.5625,  1.5938,  1.6250,  1.6562,  1.6875,  1.7188,\n",
      "         1.7500,  1.7812,  1.8125,  1.8438,  1.8750,  1.9062,  1.9375,  1.9688,\n",
      "         2.0000,  2.0312,  2.0625,  2.0938,  2.1250,  2.1562,  2.1875,  2.2188,\n",
      "         2.2500,  2.2812,  2.3125,  2.3438,  2.3750,  2.4062,  2.4375,  2.4688,\n",
      "         2.5000,  2.5312,  2.5625,  2.5938,  2.6250,  2.6562,  2.6875,  2.7188,\n",
      "         2.7500,  2.7812,  2.8125,  2.8438,  2.8750,  2.9062,  2.9375,  2.9688,\n",
      "         3.0000,  3.0312,  3.0625,  3.0938,  3.1250,  3.1562,  3.1875,  3.2188,\n",
      "         3.2500,  3.2812,  3.3125,  3.3438,  3.3750,  3.4062,  3.4375,  3.4688,\n",
      "         3.5000,  3.5312,  3.5625,  3.5938,  3.6250,  3.6562,  3.6875,  3.7188,\n",
      "         3.7500,  3.7812,  3.8125,  3.8438,  3.8750,  3.9062,  3.9375,  3.9688])\n"
     ]
    },
    {
     "data": {
      "text/plain": [
       "tensor([-0.7500,  0.5312, -0.0625,  3.9688, -0.7188, -0.0625,  0.6562, -4.0000,\n",
       "         0.3125,  0.6562], grad_fn=<IdentityStepFunctionBackward>)"
      ]
     },
     "execution_count": 53,
     "metadata": {},
     "output_type": "execute_result"
    }
   ],
   "execution_count": 53
  },
  {
   "metadata": {},
   "cell_type": "markdown",
   "source": "# On Device inference",
   "id": "c977dc39f07fc4cf"
  },
  {
   "metadata": {
    "ExecuteTime": {
     "end_time": "2025-03-31T13:21:39.291607Z",
     "start_time": "2025-03-31T13:21:39.282921Z"
    }
   },
   "cell_type": "code",
   "source": "fpga = Serial(port=\"/dev/ttyUSB1\", baudrate=115200)",
   "id": "d5ab4ccb9e5fda4e",
   "outputs": [],
   "execution_count": 54
  },
  {
   "metadata": {
    "ExecuteTime": {
     "end_time": "2025-03-31T13:21:39.361512Z",
     "start_time": "2025-03-31T13:21:39.357120Z"
    }
   },
   "cell_type": "code",
   "source": [
    "def value_to_fxp(x: float) -> str:\n",
    "    val = config.as_integer(x)\n",
    "    return val\n",
    "\n",
    "def inference_data_point(input):\n",
    "    q_input = ops.quantize(input)\n",
    "    \n",
    "    exp_output = multi_linear(q_input).detach().numpy()\n",
    "    \n",
    "    input_as_fxp = [value_to_fxp(data.item()).to_bytes(1, 'little', signed=True) for data in q_input]\n",
    "    \n",
    "    real_output = []\n",
    "    \n",
    "    for idx, input in enumerate(input_as_fxp):\n",
    "        fpga.write(input)\n",
    "        \n",
    "    for idx, output in enumerate(exp_output):\n",
    "        out = fpga.read(1)\n",
    "        out = int.from_bytes(out, 'little', signed=True)\n",
    "        real_output.append(config.as_rational(out))\n",
    "    \n",
    "    return {'exp_output':exp_output, 'real_output':real_output}"
   ],
   "id": "802ebb91d2e1e587",
   "outputs": [],
   "execution_count": 55
  },
  {
   "metadata": {
    "ExecuteTime": {
     "end_time": "2025-03-31T13:21:39.452608Z",
     "start_time": "2025-03-31T13:21:39.402542Z"
    }
   },
   "cell_type": "code",
   "source": [
    "print(inference_data_point(q_test_data))\n",
    "print(inference_data_point(q_test_data_1))\n",
    "print(inference_data_point(q_test_data_2))"
   ],
   "id": "33049efc38fd0a7c",
   "outputs": [
    {
     "name": "stdout",
     "output_type": "stream",
     "text": [
      "{'exp_output': array([ 3.5625 , -3.59375, -4.     , -4.     ], dtype=float32), 'real_output': [3.5625, -3.59375, -4.0, -4.0]}\n",
      "{'exp_output': array([-0.875  ,  3.96875, -1.375  , -4.     ], dtype=float32), 'real_output': [-0.875, 3.96875, -1.375, -4.0]}\n",
      "{'exp_output': array([-4.     , -4.     ,  2.84375,  0.21875], dtype=float32), 'real_output': [-4.0, -4.0, 2.84375, 0.21875]}\n"
     ]
    }
   ],
   "execution_count": 56
  },
  {
   "metadata": {
    "ExecuteTime": {
     "end_time": "2025-03-31T13:21:39.533614Z",
     "start_time": "2025-03-31T13:21:39.528883Z"
    }
   },
   "cell_type": "code",
   "source": [
    "def infer_batch_on_device(batch: torch.Tensor):\n",
    "    outputs = torch.zeros(batch.shape[0], 4)\n",
    "    for idx, datapoint in enumerate(batch):\n",
    "        datapoint = ops.quantize(datapoint)\n",
    "        output = inference_data_point(datapoint)\n",
    "        outputs[idx] = torch.tensor(output['real_output'])\n",
    "        print(idx)\n",
    "    \n",
    "    return outputs"
   ],
   "id": "4b6c442b0af48e4f",
   "outputs": [],
   "execution_count": 57
  },
  {
   "metadata": {
    "ExecuteTime": {
     "end_time": "2025-03-31T13:22:00.220058Z",
     "start_time": "2025-03-31T13:21:57.650971Z"
    }
   },
   "cell_type": "code",
   "source": [
    "# Testing\n",
    "criterion = nn.CrossEntropyLoss()\n",
    "\n",
    "test_loss = 0.0\n",
    "test_correct_predictions = 0\n",
    "test_total_samples = 0\n",
    "for batch_features, batch_targets in test_dl:\n",
    "    with torch.no_grad():\n",
    "        outputs = infer_batch_on_device(batch_features)\n",
    "        loss = criterion(outputs, batch_targets)\n",
    "\n",
    "        # Accumulate loss\n",
    "        test_loss += loss.item()\n",
    "\n",
    "        # Calculate accuracy\n",
    "        _, predicted = torch.max(outputs, 1)  # Get predicted labels\n",
    "        test_correct_predictions += (predicted == batch_targets).sum().item()\n",
    "        test_total_samples += batch_targets.size(0)\n",
    "test_accuracy = test_correct_predictions / test_total_samples\n",
    "print(f\"Test Loss: {test_loss/1000:.6f}, Test Accuracy: {test_accuracy:.2%}\")\n",
    "print(f\"{fpga.in_waiting=}\")\n"
   ],
   "id": "4415ab747f2b137",
   "outputs": [
    {
     "name": "stdout",
     "output_type": "stream",
     "text": [
      "0\n",
      "1\n",
      "2\n",
      "3\n",
      "4\n",
      "5\n",
      "6\n",
      "7\n",
      "8\n",
      "9\n",
      "10\n",
      "11\n",
      "12\n",
      "13\n",
      "14\n",
      "15\n",
      "16\n",
      "17\n",
      "18\n",
      "19\n",
      "20\n",
      "21\n",
      "22\n",
      "23\n",
      "24\n",
      "25\n",
      "26\n",
      "27\n",
      "28\n",
      "29\n",
      "30\n",
      "31\n",
      "32\n",
      "33\n",
      "34\n",
      "35\n",
      "36\n",
      "37\n",
      "38\n",
      "39\n",
      "40\n",
      "41\n",
      "42\n",
      "43\n",
      "44\n",
      "45\n",
      "46\n",
      "47\n",
      "48\n",
      "49\n",
      "50\n",
      "51\n",
      "52\n",
      "53\n",
      "54\n",
      "55\n",
      "56\n",
      "57\n",
      "58\n",
      "59\n",
      "60\n",
      "61\n",
      "62\n",
      "63\n",
      "64\n",
      "65\n",
      "66\n",
      "67\n",
      "68\n",
      "69\n",
      "70\n",
      "71\n",
      "72\n",
      "73\n",
      "74\n",
      "75\n",
      "76\n",
      "77\n",
      "78\n",
      "79\n",
      "80\n",
      "81\n",
      "82\n",
      "83\n",
      "84\n",
      "85\n",
      "86\n",
      "87\n",
      "88\n",
      "89\n",
      "90\n",
      "91\n",
      "92\n",
      "93\n",
      "94\n",
      "95\n",
      "96\n",
      "97\n",
      "98\n",
      "99\n",
      "100\n",
      "101\n",
      "102\n",
      "103\n",
      "104\n",
      "105\n",
      "106\n",
      "107\n",
      "108\n",
      "109\n",
      "110\n",
      "111\n",
      "112\n",
      "113\n",
      "114\n",
      "115\n",
      "116\n",
      "117\n",
      "118\n",
      "119\n",
      "120\n",
      "121\n",
      "122\n",
      "123\n",
      "124\n",
      "125\n",
      "126\n",
      "127\n",
      "128\n",
      "129\n",
      "130\n",
      "131\n",
      "132\n",
      "133\n",
      "134\n",
      "135\n",
      "136\n",
      "137\n",
      "138\n",
      "139\n",
      "140\n",
      "141\n",
      "142\n",
      "143\n",
      "144\n",
      "145\n",
      "146\n",
      "147\n",
      "148\n",
      "149\n",
      "150\n",
      "151\n",
      "152\n",
      "153\n",
      "154\n",
      "155\n",
      "156\n",
      "157\n",
      "158\n",
      "159\n",
      "Test Loss: 0.000049, Test Accuracy: 100.00%\n",
      "fpga.in_waiting=0\n"
     ]
    }
   ],
   "execution_count": 59
  }
 ],
 "metadata": {
  "kernelspec": {
   "display_name": "Python 3",
   "language": "python",
   "name": "python3"
  },
  "language_info": {
   "codemirror_mode": {
    "name": "ipython",
    "version": 2
   },
   "file_extension": ".py",
   "mimetype": "text/x-python",
   "name": "python",
   "nbconvert_exporter": "python",
   "pygments_lexer": "ipython2",
   "version": "2.7.6"
  }
 },
 "nbformat": 4,
 "nbformat_minor": 5
}
